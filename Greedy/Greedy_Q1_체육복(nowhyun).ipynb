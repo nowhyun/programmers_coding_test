{
  "nbformat": 4,
  "nbformat_minor": 0,
  "metadata": {
    "colab": {
      "name": "Greedy_Q1_체육복(nowhyun).ipynb",
      "provenance": [],
      "collapsed_sections": [],
      "authorship_tag": "ABX9TyN/8xz7TpqmJ157PzixrqzX",
      "include_colab_link": true
    },
    "kernelspec": {
      "name": "python3",
      "display_name": "Python 3"
    }
  },
  "cells": [
    {
      "cell_type": "markdown",
      "metadata": {
        "id": "view-in-github",
        "colab_type": "text"
      },
      "source": [
        "<a href=\"https://colab.research.google.com/github/nowhyun/programmers_coding_test/blob/master/Greedy/Greedy_Q1_%EC%B2%B4%EC%9C%A1%EB%B3%B5(nowhyun).ipynb\" target=\"_parent\"><img src=\"https://colab.research.google.com/assets/colab-badge.svg\" alt=\"Open In Colab\"/></a>"
      ]
    },
    {
      "cell_type": "code",
      "metadata": {
        "id": "bFWJcQ7h-S8H",
        "colab_type": "code",
        "colab": {
          "base_uri": "https://localhost:8080/",
          "height": 265
        },
        "outputId": "fa528537-edd1-4e72-843e-764903d11b90"
      },
      "source": [
        "n=5; lost=[2,4]; reserve=[1,3,5] # answer=5\n",
        "# n=5; lost=[2,4]; reserve=[3] # answer=4\n",
        "# n=3; lost=[3]; reserve=[1] # answer=2\n",
        "# n=5; lost=[1,2]; reserve=[1,2,3] # answer=5\n",
        "'''\n",
        "전체 인원 = [1,2,3,...,n] 의 n명\n",
        "  n에 따라 최대값이 정해진다\n",
        "사용가능한 옷의 개수를 세리는 개념으로 접근해보자\n",
        "'''\n",
        "def solution(n, lost, reserve):\n",
        "    #lost와 reserve 중복 제거\n",
        "    lostSet = set(lost)\n",
        "    reserveSet = set(reserve)\n",
        "    lost = list(lostSet - reserveSet)\n",
        "    reserve = list(reserveSet - lostSet)\n",
        "    print('lost:', lost)\n",
        "    print('reserve:', reserve)\n",
        "\n",
        "    #초기 answer\n",
        "    answer = n-len(lost)\n",
        "    print('init answer:', answer);print()\n",
        "\n",
        "    #서칭 시작\n",
        "    minVal = 0\n",
        "    maxVal = n+1\n",
        "    #i-1 또는 i+1이 lost에 있을 경우 answer+=1\n",
        "    for i in reserve:\n",
        "        print('curr i:', i)\n",
        "        if i-1 != minVal:\n",
        "            print('1-1통과')\n",
        "            if i-1 in lost:\n",
        "                print('2-1통과')\n",
        "                answer += 1\n",
        "                lost.remove(i-1)\n",
        "                continue\n",
        "        if i+1 != maxVal:\n",
        "            print('2-1통과')\n",
        "            if i+1 in lost:\n",
        "                print('2-2통과')\n",
        "                answer += 1\n",
        "                lost.remove(i+1)\n",
        "                continue\n",
        "\n",
        "    return answer\n",
        "solution(n, lost, reserve)"
      ],
      "execution_count": 25,
      "outputs": [
        {
          "output_type": "stream",
          "text": [
            "lost: [2, 4]\n",
            "reserve: [1, 3, 5]\n",
            "init answer: 3\n",
            "\n",
            "curr i: 1\n",
            "2-1통과\n",
            "2-2통과\n",
            "curr i: 3\n",
            "1-1통과\n",
            "2-1통과\n",
            "2-2통과\n",
            "curr i: 5\n",
            "1-1통과\n"
          ],
          "name": "stdout"
        },
        {
          "output_type": "execute_result",
          "data": {
            "text/plain": [
              "5"
            ]
          },
          "metadata": {
            "tags": []
          },
          "execution_count": 25
        }
      ]
    },
    {
      "cell_type": "code",
      "metadata": {
        "id": "yC2FHPY_P1PC",
        "colab_type": "code",
        "colab": {}
      },
      "source": [
        "'''\n",
        "테스트 1 〉\t통과 (0.04ms, 10.7MB\n",
        "테스트 2 〉\t통과 (0.04ms, 10.7MB)\n",
        "테스트 3 〉\t통과 (0.04ms, 10.7MB)\n",
        "테스트 4 〉\t통과 (0.04ms, 10.7MB)\n",
        "테스트 5 〉\t통과 (0.04ms, 10.8MB)\n",
        "테스트 6 〉\t통과 (0.04ms, 10.7MB)\n",
        "테스트 7 〉\t통과 (0.04ms, 10.8MB)\n",
        "테스트 8 〉\t통과 (0.04ms, 10.7MB)\n",
        "테스트 9 〉\t통과 (0.04ms, 10.7MB)\n",
        "테스트 10 〉\t통과 (0.04ms, 10.7MB)\n",
        "테스트 11 〉\t통과 (0.06ms, 10.6MB)\n",
        "테스트 12 〉\t통과 (0.04ms, 10.8MB)\n",
        "'''"
      ],
      "execution_count": 0,
      "outputs": []
    }
  ]
}