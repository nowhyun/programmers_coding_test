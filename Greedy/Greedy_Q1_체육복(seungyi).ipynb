{
  "nbformat": 4,
  "nbformat_minor": 0,
  "metadata": {
    "colab": {
      "name": "Greedy_Q1_체육복(seungyi).ipynb",
      "provenance": [],
      "authorship_tag": "ABX9TyMLrgJuPgWmPT63mwj/BPY8",
      "include_colab_link": true
    },
    "kernelspec": {
      "name": "python3",
      "display_name": "Python 3"
    }
  },
  "cells": [
    {
      "cell_type": "markdown",
      "metadata": {
        "id": "view-in-github",
        "colab_type": "text"
      },
      "source": [
        "<a href=\"https://colab.research.google.com/github/nowhyun/programmers_coding_test/blob/master/Greedy/Greedy_Q1_%EC%B2%B4%EC%9C%A1%EB%B3%B5(seungyi).ipynb\" target=\"_parent\"><img src=\"https://colab.research.google.com/assets/colab-badge.svg\" alt=\"Open In Colab\"/></a>"
      ]
    },
    {
      "cell_type": "code",
      "metadata": {
        "id": "aDctqyhXQJxq",
        "colab_type": "code",
        "colab": {}
      },
      "source": [
        "def solution(n, lost, reserve):\n",
        "    no_cloth = []\n",
        "    lost_reserve = []\n",
        "\n",
        "    # 잃어버리고 + 여분을 가지고 있는 학생을 골라서 빼내기 \n",
        "\n",
        "    lost_reserve = list(set(lost).intersection(set(reserve)))\n",
        "\n",
        "    if lost_reserve:\n",
        "        for i in lost_reserve:\n",
        "            lost.remove(i)\n",
        "            reserve.remove(i)\n",
        "    \n",
        "    # 오름차순으로 정렬 \n",
        "            \n",
        "    lost.sort()\n",
        "    reserve.sort()\n",
        "\n",
        "    a = lost[-1]\n",
        "    b = reserve[-1]\n",
        "\n",
        "    # 잃어버린 학생에게 빌려주기\n",
        "    # 질문  \n",
        "    # 이과정에서 1번,6번 테스트가 런타임 오류가 나는데,\n",
        "    # while문의 조건이 안들어서 break가 안걸리는걸 확인 할 수 있었음.\n",
        "    # (조건을 True로 바꿔도 같은 결과를 도출해 내 오류를 알 수 있었음)\n",
        "    # while 문의 조건이 왜 안드는지 모르겠어요 ㅠㅠ 아는분 있으면 도움좀.. \n",
        "\n",
        "    while reserve and lost:\n",
        "        try:\n",
        "            if a == b + 1 or a == b - 1:\n",
        "                lost.pop()\n",
        "                a = lost[-1]\n",
        "                reserve.pop()\n",
        "                b = reserve[-1]\n",
        "                continue\n",
        "            elif a > b:\n",
        "                no_cloth.append(a)\n",
        "                lost.pop()\n",
        "                a = lost[-1]\n",
        "                continue\n",
        "            elif a < b:\n",
        "                reserve.pop()\n",
        "                b = reserve[-1]\n",
        "                continue\n",
        "        except:\n",
        "            if lost:\n",
        "                no_cloth.extend(lost)\n",
        "            break\n",
        "\n",
        "    answer = n - len(no_cloth)\n",
        "    return answer"
      ],
      "execution_count": 0,
      "outputs": []
    }
  ]
}