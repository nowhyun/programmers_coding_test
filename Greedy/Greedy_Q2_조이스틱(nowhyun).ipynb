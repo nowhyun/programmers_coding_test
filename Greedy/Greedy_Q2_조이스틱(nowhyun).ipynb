{
  "nbformat": 4,
  "nbformat_minor": 0,
  "metadata": {
    "colab": {
      "name": "Greedy_Q2_조이스틱(nowhyun).ipynb",
      "provenance": [],
      "authorship_tag": "ABX9TyOLeoElW/jcKSGcjCBCPthp",
      "include_colab_link": true
    },
    "kernelspec": {
      "name": "python3",
      "display_name": "Python 3"
    }
  },
  "cells": [
    {
      "cell_type": "markdown",
      "metadata": {
        "id": "view-in-github",
        "colab_type": "text"
      },
      "source": [
        "<a href=\"https://colab.research.google.com/github/nowhyun/programmers_coding_test/blob/master/Greedy/Greedy_Q2_%EC%A1%B0%EC%9D%B4%EC%8A%A4%ED%8B%B1(nowhyun).ipynb\" target=\"_parent\"><img src=\"https://colab.research.google.com/assets/colab-badge.svg\" alt=\"Open In Colab\"/></a>"
      ]
    },
    {
      "cell_type": "code",
      "metadata": {
        "id": "lI2G94Ce0cdR",
        "colab_type": "code",
        "colab": {
          "base_uri": "https://localhost:8080/",
          "height": 143
        },
        "outputId": "6d67fc4f-e342-4946-dcab-272ae9c4a68d"
      },
      "source": [
        "name = 'JEROEN' # answer=56\n",
        "name = 'JAN' # answer=23\n",
        "name = 'BBABA' # → 6\n",
        "name = 'BBBAAB' # → 8\n",
        "name = 'BBAABAA' # → 7\n",
        "# name = 'BBAABBB' # → 10\n",
        "name = 'BBAABAAAA' # → 7\n",
        "# name = 'BBAABAAAAB' # → 10\n",
        "\n",
        "# 실패, 반례가 너무 많다.\n",
        "def solution_fail(name):\n",
        "    answer = 0\n",
        "    alphaList = {chr(c):idx for idx,c in enumerate(range(ord('A'), ord('Z')+1))}\n",
        "    print('alphaList:', alphaList)\n",
        "    length = len(alphaList)\n",
        "    print('overall length Of alphaList:', length)\n",
        "    center = length//2\n",
        "    print('center idx Of alphaList:', center)\n",
        "    \n",
        "    answer = alphaList[name[0]]\n",
        "    print('init answer:', answer)\n",
        "    name = name[1:]\n",
        "    print('name:', name)\n",
        "    toggle = False\n",
        "    dist = 0\n",
        "    for Alpha in name:\n",
        "        answer += 1\n",
        "        idxOfAlpha = alphaList[Alpha]\n",
        "        # 좌클릭 때리고 시작\n",
        "        if idxOfAlpha == 0:\n",
        "            dist += 1\n",
        "            toggle = True    \n",
        "        # 우클릭으로 진행\n",
        "        if idxOfAlpha <= center:\n",
        "            answer += idxOfAlpha\n",
        "        else: answer += (length-idxOfAlpha)\n",
        "\n",
        "    if toggle: answer -= (dist//2)\n",
        "        \n",
        "    return answer\n",
        "\n",
        "solution_fail(name)"
      ],
      "execution_count": 41,
      "outputs": [
        {
          "output_type": "stream",
          "text": [
            "alphaList: {'A': 0, 'B': 1, 'C': 2, 'D': 3, 'E': 4, 'F': 5, 'G': 6, 'H': 7, 'I': 8, 'J': 9, 'K': 10, 'L': 11, 'M': 12, 'N': 13, 'O': 14, 'P': 15, 'Q': 16, 'R': 17, 'S': 18, 'T': 19, 'U': 20, 'V': 21, 'W': 22, 'X': 23, 'Y': 24, 'Z': 25}\n",
            "overall length Of alphaList: 26\n",
            "center idx Of alphaList: 13\n",
            "init answer: 1\n",
            "name: BAABAAAA\n"
          ],
          "name": "stdout"
        },
        {
          "output_type": "execute_result",
          "data": {
            "text/plain": [
              "8"
            ]
          },
          "metadata": {
            "tags": []
          },
          "execution_count": 41
        }
      ]
    },
    {
      "cell_type": "code",
      "metadata": {
        "id": "NsDaNWOyCz0S",
        "colab_type": "code",
        "colab": {
          "base_uri": "https://localhost:8080/",
          "height": 196
        },
        "outputId": "78b4bd03-5230-49f8-e651-c7774a0dbf3d"
      },
      "source": [
        "name = 'JEROEN' # answer=56\n",
        "name = 'JAN' # answer=23\n",
        "name = 'BBABA' # → 6\n",
        "name = 'BBBAAB' # → 8\n",
        "name = 'BBAABAA' # → 7\n",
        "# name = 'BBAABBB' # → 10\n",
        "name = 'BBAABAAAA' # → 7\n",
        "name = 'BBAABAAAAB' # → 10 그러나...\n",
        "\n",
        "#그냥 양방향 둘다 가보고 짧은 거리를 계산하자\n",
        "def solution(name):\n",
        "    answer = 0\n",
        "    name = list(name)\n",
        "\n",
        "    alphaList = {chr(c):idx for idx,c in enumerate(range(ord('A'), ord('Z')+1))}\n",
        "    print('alphaList:', alphaList)\n",
        "    length = len(alphaList)\n",
        "    print('overall length Of alphaList:', length)\n",
        "    center = length//2\n",
        "    print('center idx Of alphaList:', center)\n",
        "    \n",
        "    initName = [\"A\"]*len(name)\n",
        "    idx = 0\n",
        "    while True:\n",
        "        '''Part1. 상하 클릭'''\n",
        "        #현재 Alphabet이 A가 아니라면 정상 탐색하되\n",
        "        Alpha = name[idx]\n",
        "        idxOfAlpha = alphaList[Alpha]\n",
        "        if Alpha != \"A\":\n",
        "            if idxOfAlpha <= center:\n",
        "                answer += idxOfAlpha\n",
        "            else:\n",
        "                answer += (length-idxOfAlpha)\n",
        "            #answer처리 후에는 현재 Alphabet을 A로 변경\n",
        "            name[idx]=\"A\"\n",
        "        print('{}번째 name: {}'.format(idx, name))\n",
        "\n",
        "        #AAA처리 됬을 시 반복문 정지\n",
        "        if name == initName:\n",
        "            print('answer:', answer)\n",
        "            break\n",
        "\n",
        "        '''Part2. 좌우 클릭(Greedy Alg)'''\n",
        "        rightIdx = 1\n",
        "        leftIdx = 1\n",
        "        #아니라면 양방향 비교 접근 시작\n",
        "        for i in range(len(name)):\n",
        "            if name[idx+i+1] == \"A\":\n",
        "                rightIdx += 1\n",
        "            else:\n",
        "                break\n",
        "            if name[idx-i+1] == \"A\":\n",
        "                leftIdx+=1\n",
        "            else:\n",
        "                break\n",
        "        #우측거리가 좌측거리보다 길 경우\n",
        "        if rightIdx > leftIdx:\n",
        "            #좌측거리로 이동\n",
        "            answer += leftIdx\n",
        "            idx -= leftIdx\n",
        "        else:\n",
        "            answer += rightIdx\n",
        "            idx += rightIdx\n",
        "\n",
        "    return answer\n",
        "solution(name)   "
      ],
      "execution_count": 47,
      "outputs": [
        {
          "output_type": "stream",
          "text": [
            "alphaList: {'A': 0, 'B': 1, 'C': 2, 'D': 3, 'E': 4, 'F': 5, 'G': 6, 'H': 7, 'I': 8, 'J': 9, 'K': 10, 'L': 11, 'M': 12, 'N': 13, 'O': 14, 'P': 15, 'Q': 16, 'R': 17, 'S': 18, 'T': 19, 'U': 20, 'V': 21, 'W': 22, 'X': 23, 'Y': 24, 'Z': 25}\n",
            "overall length Of alphaList: 26\n",
            "center idx Of alphaList: 13\n",
            "0번째 name: ['A', 'B', 'A', 'A', 'B', 'A', 'A', 'A', 'A', 'B']\n",
            "1번째 name: ['A', 'A', 'A', 'A', 'B', 'A', 'A', 'A', 'A', 'B']\n",
            "4번째 name: ['A', 'A', 'A', 'A', 'A', 'A', 'A', 'A', 'A', 'B']\n",
            "9번째 name: ['A', 'A', 'A', 'A', 'A', 'A', 'A', 'A', 'A', 'A']\n",
            "answer: 13\n"
          ],
          "name": "stdout"
        },
        {
          "output_type": "execute_result",
          "data": {
            "text/plain": [
              "13"
            ]
          },
          "metadata": {
            "tags": []
          },
          "execution_count": 47
        }
      ]
    },
    {
      "cell_type": "code",
      "metadata": {
        "id": "DnzUsOjsE8bt",
        "colab_type": "code",
        "colab": {}
      },
      "source": [
        "'''\n",
        "테스트 1 〉\t통과 (0.05ms, 10.8MB)\n",
        "테스트 2 〉\t통과 (0.05ms, 10.8MB)\n",
        "테스트 3 〉\t통과 (0.04ms, 10.7MB)\n",
        "테스트 4 〉\t통과 (0.05ms, 10.8MB)\n",
        "테스트 5 〉\t통과 (0.05ms, 10.6MB)\n",
        "테스트 6 〉\t통과 (0.05ms, 10.8MB)\n",
        "테스트 7 〉\t통과 (0.05ms, 10.8MB)\n",
        "테스트 8 〉\t통과 (0.05ms, 10.8MB)\n",
        "테스트 9 〉\t통과 (0.05ms, 10.7MB)\n",
        "테스트 10 〉\t통과 (0.04ms, 10.7MB)\n",
        "테스트 11 〉\t통과 (0.05ms, 10.8MB)\n",
        "'''"
      ],
      "execution_count": 0,
      "outputs": []
    }
  ]
}