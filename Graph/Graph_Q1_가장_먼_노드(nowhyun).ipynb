{
  "nbformat": 4,
  "nbformat_minor": 0,
  "metadata": {
    "colab": {
      "name": "Graph_Q1_가장 먼 노드(nowhyun).ipynb",
      "provenance": [],
      "authorship_tag": "ABX9TyOMsnvS9o4denoZDHyEvq/i",
      "include_colab_link": true
    },
    "kernelspec": {
      "name": "python3",
      "display_name": "Python 3"
    }
  },
  "cells": [
    {
      "cell_type": "markdown",
      "metadata": {
        "id": "view-in-github",
        "colab_type": "text"
      },
      "source": [
        "<a href=\"https://colab.research.google.com/github/nowhyun/programmers_coding_test/blob/master/Graph/Graph_Q1_%EA%B0%80%EC%9E%A5_%EB%A8%BC_%EB%85%B8%EB%93%9C(nowhyun).ipynb\" target=\"_parent\"><img src=\"https://colab.research.google.com/assets/colab-badge.svg\" alt=\"Open In Colab\"/></a>"
      ]
    },
    {
      "cell_type": "code",
      "metadata": {
        "id": "1FpIAjMLfWPA",
        "colab_type": "code",
        "outputId": "25407767-6f73-47c9-b647-9c2a98cadea7",
        "colab": {
          "base_uri": "https://localhost:8080/",
          "height": 176
        }
      },
      "source": [
        "n = 6 # 총 노드 개수\n",
        "edge = [[3, 6], [4, 3], [3, 2], [1, 3], [1, 2], [2, 4], [5, 2]]\n",
        "\n",
        "import networkx as nx\n",
        "import matplotlib.pyplot as plt\n",
        "\n",
        "# 프로그래머스 내에서는 networkx 사용이 불가능한듯..\n",
        "def solution(n, edge):\n",
        "    def make_graph(edge):\n",
        "        '''\n",
        "        #INPUT.\n",
        "            edge = [[node_i, node_j],...] 로 구성된 list type 의 edge\n",
        "        #OUTPUT.\n",
        "            G = networkx를 통해 구성된 non-direction graph with distance 1\n",
        "        '''\n",
        "        G = nx.Graph()\n",
        "\n",
        "        for (x,y) in edge:\n",
        "            G.add_edge(x,y, distance=1)\n",
        "\n",
        "        # nx.draw(G, pos=nx.spring_layout(G), with_labels=True) # layout 지정 후 시각화\n",
        "        # plt.show()\n",
        "\n",
        "        return G\n",
        "    graph = make_graph(edge)\n",
        "\n",
        "    def cal_distance_with_oneNode(n):\n",
        "        '''\n",
        "        #INPUT.\n",
        "            n = int type 의 전체 노드 개수\n",
        "        #OUTPUT.\n",
        "            dst_storage_sorted = node_1과 연결된 각 node 들간의 거리를 정렬한 dict type\n",
        "        '''\n",
        "        dst_storage = {}\n",
        "        sourceNode = 1\n",
        "        for targetNode in range(1, n+1):\n",
        "            if nx.has_path(graph, sourceNode, targetNode):\n",
        "                path = nx.shortest_path_length(graph, source=sourceNode, target=targetNode, weight='distance')\n",
        "                dst_storage[targetNode] = path\n",
        "        # print(dst_storage); print()\n",
        "\n",
        "        dst_storage_sorted = sorted(dst_storage.items(), key=lambda x:x[1])\n",
        "        # print(dst_storage_sorted); print()\n",
        "\n",
        "        return dst_storage_sorted\n",
        "    dst_storage_sorted = cal_distance_with_oneNode(n)\n",
        "\n",
        "    # 가장 먼 거리값 산출\n",
        "    longest_dst = dst_storage_sorted[-1][1]\n",
        "    # print(longest_dst); print()\n",
        "\n",
        "    # 가장 먼 거리값을 갖는 node들을 원소로 갖는 리스트 생성\n",
        "    longest_dst_Node = [node for (node,length) in dst_storage_sorted if length == longest_dst]\n",
        "    # print(longest_dst_Node); print()\n",
        "\n",
        "    return len(longest_dst_Node)\n",
        "\n",
        "solution(n, edge)"
      ],
      "execution_count": 0,
      "outputs": [
        {
          "output_type": "stream",
          "text": [
            "{1: 0, 2: 1, 3: 1, 4: 2, 5: 2, 6: 2}\n",
            "\n",
            "[(1, 0), (2, 1), (3, 1), (4, 2), (5, 2), (6, 2)]\n",
            "\n",
            "2\n",
            "\n",
            "[4, 5, 6]\n",
            "\n"
          ],
          "name": "stdout"
        },
        {
          "output_type": "execute_result",
          "data": {
            "text/plain": [
              "3"
            ]
          },
          "metadata": {
            "tags": []
          },
          "execution_count": 34
        }
      ]
    },
    {
      "cell_type": "code",
      "metadata": {
        "id": "UjAMXi0hlYI8",
        "colab_type": "code",
        "outputId": "3184260e-feea-4527-a8c1-9987a50c543d",
        "colab": {
          "base_uri": "https://localhost:8080/",
          "height": 52
        }
      },
      "source": [
        "n = 6 # 총 노드 개수\n",
        "edge = [[3, 6], [4, 3], [3, 2], [1, 3], [1, 2], [2, 4], [5, 2]]\n",
        "from collections import defaultdict, deque\n",
        "\n",
        "def solution(n, edge):\n",
        "    def make_graph(edge):\n",
        "        '''\n",
        "        #INPUT.\n",
        "            edge = [[node_i, node_j],...] 로 구성된 list type 의 edge\n",
        "        #OUTPUT.\n",
        "            G = defaultdict(set)를 통해 구성된 non-direction graph\n",
        "        '''\n",
        "        Graph = defaultdict(set)\n",
        "        for (x,y) in edge:\n",
        "            Graph[x].add(y)\n",
        "            Graph[y].add(x)\n",
        "        # print(Graph)\n",
        "\n",
        "        return Graph\n",
        "    Graph = make_graph(edge)\n",
        "    \n",
        "    def cal_distance_with_oneNode(startNode=1):\n",
        "        '''\n",
        "        #INPUT.\n",
        "            startNode = 탐색을 시작할 int type Node\n",
        "        #OUTPUT.\n",
        "            dst_storage = {distance with startNode: the number of Node}\n",
        "            longest_dst = startNode와 가장 먼 노드와의 거리\n",
        "        '''\n",
        "    \n",
        "        visited = set() # 방문한 Node를 저장\n",
        "        dst_storage = defaultdict(int) # {distance: the number of Node}}\n",
        "        queue = deque()\n",
        "        queue.append((startNode, 0))\n",
        "\n",
        "        while queue:\n",
        "            # print(queue)\n",
        "            Node, count = queue.popleft()\n",
        "            # print(Node, count)\n",
        "            visited.add(Node)\n",
        "            # print(visited)\n",
        "            for Neighbor in Graph[Node]:\n",
        "                # 난 shortest_path_length에만 관심이 있다.\n",
        "                if Neighbor not in visited:\n",
        "                    visited.add(Neighbor)\n",
        "                    dst_storage[count+1] += 1\n",
        "                    # print(dst_storage)\n",
        "                    queue.append((Neighbor, count+1))\n",
        "        # print(dst_storage)\n",
        "        # print(count)\n",
        "        longest_dst = count\n",
        "        return dst_storage, longest_dst\n",
        "    dst_storage, longest_dst = cal_distance_with_oneNode()\n",
        "    \n",
        "    return dst_storage[longest_dst]\n",
        "\n",
        "solution(n, edge)"
      ],
      "execution_count": 34,
      "outputs": [
        {
          "output_type": "stream",
          "text": [
            "defaultdict(<class 'set'>, {3: {1, 2, 4, 6}, 6: {3}, 4: {2, 3}, 2: {1, 3, 4, 5}, 1: {2, 3}, 5: {2}})\n"
          ],
          "name": "stdout"
        },
        {
          "output_type": "execute_result",
          "data": {
            "text/plain": [
              "3"
            ]
          },
          "metadata": {
            "tags": []
          },
          "execution_count": 34
        }
      ]
    },
    {
      "cell_type": "code",
      "metadata": {
        "id": "9NawH1MfCpKc",
        "colab_type": "code",
        "colab": {}
      },
      "source": [
        ""
      ],
      "execution_count": 0,
      "outputs": []
    }
  ]
}