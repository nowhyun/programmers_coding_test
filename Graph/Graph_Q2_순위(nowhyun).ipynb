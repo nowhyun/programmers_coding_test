{
  "nbformat": 4,
  "nbformat_minor": 0,
  "metadata": {
    "colab": {
      "name": "Graph_Q2_순위(nowhyun).ipynb",
      "provenance": [],
      "authorship_tag": "ABX9TyNinY9qzj0+2fGLuJtgVPCv",
      "include_colab_link": true
    },
    "kernelspec": {
      "name": "python3",
      "display_name": "Python 3"
    }
  },
  "cells": [
    {
      "cell_type": "markdown",
      "metadata": {
        "id": "view-in-github",
        "colab_type": "text"
      },
      "source": [
        "<a href=\"https://colab.research.google.com/github/nowhyun/programmers_coding_test/blob/master/Graph/Graph_Q2_%EC%88%9C%EC%9C%84(nowhyun).ipynb\" target=\"_parent\"><img src=\"https://colab.research.google.com/assets/colab-badge.svg\" alt=\"Open In Colab\"/></a>"
      ]
    },
    {
      "cell_type": "code",
      "metadata": {
        "id": "Xi3BKv1Hz7Rv",
        "colab_type": "code",
        "colab": {
          "base_uri": "https://localhost:8080/",
          "height": 550
        },
        "outputId": "dad4f0a8-5bef-4b95-c5d3-4175fbe6f2dc"
      },
      "source": [
        "n = 5\n",
        "results = [[4, 3], [4, 2], [3, 2], [1, 2], [2, 5]]\t\n",
        "'''\n",
        "Object: \n",
        "  goalNode에 패배한 Node의 개수 + goalNode게 승리한 Node의 개수 = n-1 이라면 answer += 1 처리\n",
        "Way: \n",
        "  {node1:node1에 승리한 Node, ...} 를 2쌍으로 구성? defaultdict(set)...\n",
        "'''\n",
        "from collections import defaultdict, deque\n",
        "def solution(n, results):\n",
        "    def make_graph(edge):\n",
        "        '''\n",
        "        #INPUT.\n",
        "            edge = [[node_i, node_j],...] 로 구성된 list type 의 edge\n",
        "        #OUTPUT.\n",
        "            Graph = defaultdict(set)를 통해 구성된 direction graph\n",
        "        '''\n",
        "        Node_with_Losers = defaultdict(set)\n",
        "        Node_with_Winners = defaultdict(set) # {Node: Node에게 승리한 Node들}\n",
        "        for (x,y) in edge:\n",
        "            Node_with_Losers[x].add(y)\n",
        "            Node_with_Winners[y].add(x)\n",
        "        print('Node_with_Losers:',Node_with_Losers)\n",
        "        print('Node_with_Winners:',Node_with_Winners)\n",
        "\n",
        "        return Node_with_Losers, Node_with_Winners\n",
        "    Node_with_Losers, Node_with_Winners = make_graph(results)\n",
        "\n",
        "    # A>B & B>C 라면 A>C 라는 가정에 맞게 그래프를 업데이트\n",
        "    for Node in range(1, n+1):\n",
        "        # 현 Node에게 패배한 Node를 돌면서\n",
        "        print('Node:', Node)\n",
        "        for loser in Node_with_Losers[Node]:\n",
        "            print('loser:', loser)\n",
        "            # {패배한 Node: 패배한 Node에게 승리한 노드를 추가}}}}\n",
        "            Node_with_Winners[loser].update(Node_with_Winners[Node])\n",
        "        for winner in Node_with_Winners[Node]:\n",
        "            print('winner:', winner)\n",
        "            Node_with_Losers[winner].update(Node_with_Losers[Node])\n",
        "        print()\n",
        "    print('Node_with_Losers:',Node_with_Losers)\n",
        "    print('Node_with_Winners:',Node_with_Winners)\n",
        "\n",
        "    # 각 노드의 승리횟수+패배횟수 == n-1인 케이스를 확인\n",
        "    answer = 0\n",
        "    for Node in range(1, n+1):\n",
        "        if len(Node_with_Winners[Node]) + len(Node_with_Losers[Node]) == n-1:\n",
        "            answer +=1\n",
        "\n",
        "    return answer\n",
        "\n",
        "solution(n, results)"
      ],
      "execution_count": 60,
      "outputs": [
        {
          "output_type": "stream",
          "text": [
            "Node_with_Losers: defaultdict(<class 'set'>, {4: {2, 3}, 3: {2}, 1: {2}, 2: {5}})\n",
            "Node_with_Winners: defaultdict(<class 'set'>, {3: {4}, 2: {1, 3, 4}, 5: {2}})\n",
            "Node: 1\n",
            "loser: 2\n",
            "\n",
            "Node: 2\n",
            "loser: 5\n",
            "winner: 1\n",
            "winner: 3\n",
            "winner: 4\n",
            "\n",
            "Node: 3\n",
            "loser: 2\n",
            "loser: 5\n",
            "winner: 4\n",
            "\n",
            "Node: 4\n",
            "loser: 2\n",
            "loser: 3\n",
            "loser: 5\n",
            "\n",
            "Node: 5\n",
            "winner: 1\n",
            "winner: 2\n",
            "winner: 3\n",
            "winner: 4\n",
            "\n",
            "Node_with_Losers: defaultdict(<class 'set'>, {4: {2, 3, 5}, 3: {2, 5}, 1: {2, 5}, 2: {5}, 5: set()})\n",
            "Node_with_Winners: defaultdict(<class 'set'>, {3: {4}, 2: {1, 3, 4}, 5: {1, 2, 3, 4}, 1: set(), 4: set()})\n"
          ],
          "name": "stdout"
        },
        {
          "output_type": "execute_result",
          "data": {
            "text/plain": [
              "2"
            ]
          },
          "metadata": {
            "tags": []
          },
          "execution_count": 60
        }
      ]
    },
    {
      "cell_type": "code",
      "metadata": {
        "id": "YQnpESjc0SVE",
        "colab_type": "code",
        "colab": {}
      },
      "source": [
        ""
      ],
      "execution_count": 0,
      "outputs": []
    }
  ]
}