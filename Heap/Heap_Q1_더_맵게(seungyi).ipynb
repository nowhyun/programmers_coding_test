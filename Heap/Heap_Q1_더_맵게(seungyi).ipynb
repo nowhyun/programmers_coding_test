{
  "nbformat": 4,
  "nbformat_minor": 0,
  "metadata": {
    "colab": {
      "name": "Heap_Q1_더_맵게(seungyi).ipynb",
      "provenance": [],
      "authorship_tag": "ABX9TyOO22c0aKcLANe2h0GrGqah",
      "include_colab_link": true
    },
    "kernelspec": {
      "name": "python3",
      "display_name": "Python 3"
    }
  },
  "cells": [
    {
      "cell_type": "markdown",
      "metadata": {
        "id": "view-in-github",
        "colab_type": "text"
      },
      "source": [
        "<a href=\"https://colab.research.google.com/github/nowhyun/programmers_coding_test/blob/master/Heap/Heap_Q1_%EB%8D%94_%EB%A7%B5%EA%B2%8C(seungyi).ipynb\" target=\"_parent\"><img src=\"https://colab.research.google.com/assets/colab-badge.svg\" alt=\"Open In Colab\"/></a>"
      ]
    },
    {
      "cell_type": "code",
      "metadata": {
        "id": "1EwXrn4Z855k",
        "colab_type": "code",
        "colab": {}
      },
      "source": [
        "import heapq\n",
        "\n",
        "def solution(scoville, K):\n",
        "    answer = 0\n",
        "    heapq.heapify(scoville)\n",
        "    while 1 :\n",
        "        if scoville[0] >= K:\n",
        "            break\n",
        "\n",
        "        first = heapq.heappop(scoville)\n",
        "\n",
        "        try :\n",
        "            second = heapq.heappop(scoville)\n",
        "        except:\n",
        "            if first < K:\n",
        "                return -1\n",
        "        answer += 1\n",
        "        new = first + 2*second\n",
        "        heapq.heappush(scoville,new)\n",
        "    return answer"
      ],
      "execution_count": 0,
      "outputs": []
    }
  ]
}