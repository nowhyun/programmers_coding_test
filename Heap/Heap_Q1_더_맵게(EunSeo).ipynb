{
 "cells": [
  {
   "cell_type": "code",
   "execution_count": null,
   "metadata": {},
   "outputs": [],
   "source": [
    "import heapq\n",
    "def solution(scoville, K):\n",
    "    time = 0;\n",
    "    min_heap=[]\n",
    "    for i in scoville:\n",
    "        heapq.heappush(min_heap, i)\n",
    "    while (min_heap[0] < K):\n",
    "        if len(min_heap) <= 1:\n",
    "            time = -1\n",
    "            break\n",
    "        first = heapq.heappop(min_heap)\n",
    "        second = heapq.heappop(min_heap)\n",
    "        \n",
    "        mixed = first + (second*2)\n",
    "        heapq.heappush(min_heap, mixed)\n",
    "        time=time+1\n",
    "    return time"
   ]
  }
 ],
 "metadata": {
  "kernelspec": {
   "display_name": "Python 3",
   "language": "python",
   "name": "python3"
  },
  "language_info": {
   "codemirror_mode": {
    "name": "ipython",
    "version": 3
   },
   "file_extension": ".py",
   "mimetype": "text/x-python",
   "name": "python",
   "nbconvert_exporter": "python",
   "pygments_lexer": "ipython3",
   "version": "3.7.3"
  }
 },
 "nbformat": 4,
 "nbformat_minor": 2
}
