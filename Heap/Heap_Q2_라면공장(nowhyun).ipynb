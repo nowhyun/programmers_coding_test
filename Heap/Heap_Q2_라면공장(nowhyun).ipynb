{
  "nbformat": 4,
  "nbformat_minor": 0,
  "metadata": {
    "colab": {
      "name": "Heap_Q2_라면공장(nowhyun).ipynb",
      "provenance": [],
      "authorship_tag": "ABX9TyMJrlnNUoeiDVKfz7gfLCyR",
      "include_colab_link": true
    },
    "kernelspec": {
      "name": "python3",
      "display_name": "Python 3"
    }
  },
  "cells": [
    {
      "cell_type": "markdown",
      "metadata": {
        "id": "view-in-github",
        "colab_type": "text"
      },
      "source": [
        "<a href=\"https://colab.research.google.com/github/nowhyun/programmers_coding_test/blob/master/Heap/Heap_Q2_%EB%9D%BC%EB%A9%B4%EA%B3%B5%EC%9E%A5(nowhyun).ipynb\" target=\"_parent\"><img src=\"https://colab.research.google.com/assets/colab-badge.svg\" alt=\"Open In Colab\"/></a>"
      ]
    },
    {
      "cell_type": "code",
      "metadata": {
        "id": "-Okk4RidYO2Y",
        "colab_type": "code",
        "colab": {}
      },
      "source": [
        "'''\n",
        "1. 사용한 supplies의 원소 개수 = result / pop할때마다 result+=1\n",
        "2. date < stock인 date를 핸들링\n",
        "3. 그중 supplies가 가장 높은 date.supplies를 가져오고 각각 삭제..\n",
        "3. stock += date.supplies\n",
        "4. stock < k 라면 다시 2부터 시행\n",
        "'''\n",
        "import heapq\n",
        "def solution(stock, dates, supplies, k):\n",
        "    result = 0\n",
        "    idx = 0\n",
        "    heap = []\n",
        "    print('사용가능한 밀가루:{}, 필요한 밀가루:{}'.format(stock, k))\n",
        "    while stock < k:\n",
        "        # stock 이 k일자수를 넘을 때 까지\n",
        "        for i in range(idx, len(dates)):\n",
        "            if dates[i] <= stock:\n",
        "                heapq.heappush(heap, (-supplies[i], supplies[i])) #최대힙 생성\n",
        "                idx += 1\n",
        "            else: \n",
        "                break # 조건 만족하는 밀가루 공급이 없으면 하단부 재시행\n",
        "        stock += heapq.heappop(heap)[1] # stock에 가장 먼 date의 supply 추가\n",
        "        result += 1\n",
        "    print('최종정답:',result)\n",
        "    \n",
        "    return result"
      ],
      "execution_count": 0,
      "outputs": []
    }
  ]
}