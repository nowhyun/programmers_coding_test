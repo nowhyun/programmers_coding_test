{
  "nbformat": 4,
  "nbformat_minor": 0,
  "metadata": {
    "colab": {
      "name": "Heap_Q1_더 맵게(nowhyun).ipynb",
      "provenance": [],
      "collapsed_sections": [],
      "authorship_tag": "ABX9TyP/JOvtpyPLnDNg7npkJduu",
      "include_colab_link": true
    },
    "kernelspec": {
      "name": "python3",
      "display_name": "Python 3"
    }
  },
  "cells": [
    {
      "cell_type": "markdown",
      "metadata": {
        "id": "view-in-github",
        "colab_type": "text"
      },
      "source": [
        "<a href=\"https://colab.research.google.com/github/nowhyun/programmers_coding_test/blob/master/Heap/Heap_Q1_%EB%8D%94_%EB%A7%B5%EA%B2%8C(nowhyun).ipynb\" target=\"_parent\"><img src=\"https://colab.research.google.com/assets/colab-badge.svg\" alt=\"Open In Colab\"/></a>"
      ]
    },
    {
      "cell_type": "code",
      "metadata": {
        "id": "HYQfN2KpXKhV",
        "colab_type": "code",
        "colab": {}
      },
      "source": [
        "def solution(scoville, K):\n",
        "    heapq.heapify(scoville) # scoville list를 heap화\n",
        "    # print(scoville) # scoville[0] 로 최소 원소 조회 가능\n",
        "    mix_counter = 0\n",
        "    toggle = bool\n",
        "    while scoville[0] < K:\n",
        "        smlst_1 = heapq.heappop(scoville)\n",
        "        try:\n",
        "            smlst_2 = heapq.heappop(scoville)\n",
        "        except IndexError:\n",
        "            toggle = True\n",
        "        new_thing = smlst_1 + smlst_2*2\n",
        "        # print(new_thing)\n",
        "        heapq.heappush(scoville, new_thing)\n",
        "        mix_counter += 1\n",
        "    # print(scoville)\n",
        "    if toggle == True:\n",
        "        mix_counter = -1\n",
        "\n",
        "    return mix_counter"
      ],
      "execution_count": 0,
      "outputs": []
    }
  ]
}