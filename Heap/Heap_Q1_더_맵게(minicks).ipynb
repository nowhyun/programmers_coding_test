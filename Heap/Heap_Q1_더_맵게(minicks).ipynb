{
  "nbformat": 4,
  "nbformat_minor": 0,
  "metadata": {
    "colab": {
      "name": "Heap_Q1_더_맵게(minicks).ipynb",
      "provenance": [],
      "authorship_tag": "ABX9TyN60kp1Y4g5T5ohTd1i5+bb",
      "include_colab_link": true
    },
    "kernelspec": {
      "name": "python3",
      "display_name": "Python 3"
    }
  },
  "cells": [
    {
      "cell_type": "markdown",
      "metadata": {
        "id": "view-in-github",
        "colab_type": "text"
      },
      "source": [
        "<a href=\"https://colab.research.google.com/github/nowhyun/programmers_coding_test/blob/master/Heap/Heap_Q1_%EB%8D%94_%EB%A7%B5%EA%B2%8C(minicks).ipynb\" target=\"_parent\"><img src=\"https://colab.research.google.com/assets/colab-badge.svg\" alt=\"Open In Colab\"/></a>"
      ]
    },
    {
      "cell_type": "code",
      "metadata": {
        "id": "kWaI_86QaDlM",
        "colab_type": "code",
        "colab": {}
      },
      "source": [
        "import heapq\n",
        "\n",
        "def solution(scoville, K):\n",
        "    heapq.heapify(scoville)\n",
        "    L = len(scoville)\n",
        "    f = heapq.heappop(scoville)\n",
        "    for i in range(1, L):\n",
        "        s = heapq.heappop(scoville)\n",
        "        f = heapq.heappushpop(scoville, f+s*2)\n",
        "        if f>=K: return i\n",
        "    return -1"
      ],
      "execution_count": 0,
      "outputs": []
    }
  ]
}