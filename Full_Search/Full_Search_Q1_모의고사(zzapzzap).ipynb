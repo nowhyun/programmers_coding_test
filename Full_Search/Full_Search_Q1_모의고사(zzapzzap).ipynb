{
  "nbformat": 4,
  "nbformat_minor": 0,
  "metadata": {
    "colab": {
      "name": "Full_Search_Q1_모의고사(zzapzzap).ipynb",
      "provenance": [],
      "collapsed_sections": [],
      "authorship_tag": "ABX9TyOTNQk7wbBVkp1BP1iqSCkd",
      "include_colab_link": true
    },
    "kernelspec": {
      "name": "python3",
      "display_name": "Python 3"
    }
  },
  "cells": [
    {
      "cell_type": "markdown",
      "metadata": {
        "id": "view-in-github",
        "colab_type": "text"
      },
      "source": [
        "<a href=\"https://colab.research.google.com/github/nowhyun/programmers_coding_test/blob/master/Full_Search/Full_Search_Q1_%EB%AA%A8%EC%9D%98%EA%B3%A0%EC%82%AC(zzapzzap).ipynb\" target=\"_parent\"><img src=\"https://colab.research.google.com/assets/colab-badge.svg\" alt=\"Open In Colab\"/></a>"
      ]
    },
    {
      "cell_type": "code",
      "metadata": {
        "id": "j2gm6vPBu98N",
        "colab_type": "code",
        "outputId": "b45e9a9a-c7bf-4351-f2af-62eaf202980a",
        "colab": {
          "base_uri": "https://localhost:8080/",
          "height": 34
        }
      },
      "source": [
        "def solution(answers):\n",
        "    \n",
        "    supo_list = [[1, 2, 3, 4, 5], \n",
        "                [2, 1, 2, 3, 2, 4, 2, 5],\n",
        "                [3, 3, 1, 1, 2, 2, 4, 4, 5, 5]]\n",
        "    count_list = []\n",
        "    for j in range(len(supo_list)):\n",
        "        count = 0\n",
        "        for i, ans in enumerate(answers):\n",
        "            if ans == supo_list[j][i%len(supo_list[j])]:\n",
        "                count += 1\n",
        "        count_list.append([j + 1, count])\n",
        "    max_count = max(list(map(lambda x : x[1], count_list)))\n",
        "    answer = list(filter(lambda x : (x[1] - max_count >=0), count_list))\n",
        "    answer = list(map(lambda x : x[0], answer))\n",
        "        \n",
        "    return answer\n",
        "\n",
        "solution([1,2,3,4,5])\n"
      ],
      "execution_count": 5,
      "outputs": [
        {
          "output_type": "execute_result",
          "data": {
            "text/plain": [
              "[1]"
            ]
          },
          "metadata": {
            "tags": []
          },
          "execution_count": 5
        }
      ]
    }
  ]
}