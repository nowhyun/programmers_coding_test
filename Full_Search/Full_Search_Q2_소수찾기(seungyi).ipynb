{
  "nbformat": 4,
  "nbformat_minor": 0,
  "metadata": {
    "colab": {
      "name": "Full_Search_Q2_소수찾기(seungyi).ipynb",
      "provenance": [],
      "authorship_tag": "ABX9TyPFjgoMyZcyQiuVka0oQ27V",
      "include_colab_link": true
    },
    "kernelspec": {
      "name": "python3",
      "display_name": "Python 3"
    }
  },
  "cells": [
    {
      "cell_type": "markdown",
      "metadata": {
        "id": "view-in-github",
        "colab_type": "text"
      },
      "source": [
        "<a href=\"https://colab.research.google.com/github/nowhyun/programmers_coding_test/blob/master/Full_Search/Full_Search_Q2_%EC%86%8C%EC%88%98%EC%B0%BE%EA%B8%B0(seungyi).ipynb\" target=\"_parent\"><img src=\"https://colab.research.google.com/assets/colab-badge.svg\" alt=\"Open In Colab\"/></a>"
      ]
    },
    {
      "cell_type": "code",
      "metadata": {
        "id": "32OcFwLY-_oD",
        "colab_type": "code",
        "colab": {}
      },
      "source": [
        "import itertools\n",
        "\n",
        "def solution(numbers):\n",
        "    answer = 0\n",
        "    number_split = list(numbers)\n",
        "    prime_list = []\n",
        "    prime = True\n",
        "\n",
        "    for i in range(len(number_split)+1):\n",
        "        prime_list.extend(list(map(''.join, itertools.permutations(number_split,i))))\n",
        "\n",
        "    prime_list.remove('')\n",
        "    prime_list = list(map(int, prime_list))\n",
        "    prime_list = list(set(prime_list))\n",
        "\n",
        "    if 0 in prime_list:\n",
        "        prime_list.remove(0)\n",
        "    if 1 in prime_list:\n",
        "        prime_list.remove(1)\n",
        "\n",
        "\n",
        "    for i in prime_list:\n",
        "        prime = True\n",
        "        for j in range(2,i):\n",
        "            if(i%j == 0):\n",
        "                prime = False\n",
        "                break\n",
        "        if prime == True:\n",
        "            answer += 1\n",
        "    \n",
        "    return answer"
      ],
      "execution_count": 0,
      "outputs": []
    }
  ]
}