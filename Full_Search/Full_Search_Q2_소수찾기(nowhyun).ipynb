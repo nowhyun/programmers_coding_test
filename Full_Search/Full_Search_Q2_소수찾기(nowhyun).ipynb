{
  "nbformat": 4,
  "nbformat_minor": 0,
  "metadata": {
    "colab": {
      "name": "Full_Search_Q2_소수찾기(nowhyun).ipynb",
      "provenance": [],
      "collapsed_sections": [],
      "authorship_tag": "ABX9TyOExZcMD3vz7Kv6D1aqAZvT",
      "include_colab_link": true
    },
    "kernelspec": {
      "name": "python3",
      "display_name": "Python 3"
    }
  },
  "cells": [
    {
      "cell_type": "markdown",
      "metadata": {
        "id": "view-in-github",
        "colab_type": "text"
      },
      "source": [
        "<a href=\"https://colab.research.google.com/github/nowhyun/programmers_coding_test/blob/master/Full_Search/Full_Search_Q2_%EC%86%8C%EC%88%98%EC%B0%BE%EA%B8%B0(nowhyun).ipynb\" target=\"_parent\"><img src=\"https://colab.research.google.com/assets/colab-badge.svg\" alt=\"Open In Colab\"/></a>"
      ]
    },
    {
      "cell_type": "code",
      "metadata": {
        "id": "VTSGZm1vby-5",
        "colab_type": "code",
        "colab": {}
      },
      "source": [
        "# 에라토스테네스의 체\n",
        "'''numbers는 1이상 7이하 길이 0000000'''\n",
        "def solution(numbers):\n",
        "    from itertools import permutations\n",
        "    num_list = [numbers[i] for i in range(len(numbers))]\n",
        "    print('num_list:',num_list)\n",
        "\n",
        "    most_digit = len(num_list)\n",
        "    print('most_digit:',most_digit)\n",
        "\n",
        "    perm_list = []\n",
        "    for i in range(most_digit,0,-1):\n",
        "        perm_list.extend(list(map(''.join, permutations(num_list,i))))\n",
        "    print('perm_list:',perm_list)\n",
        "\n",
        "    perm_set = set([int(num) for num in perm_list])\n",
        "    print('perm_set:',perm_set)\n",
        "\n",
        "    def make_prime_list(digits):\n",
        "        n = 10**digits\n",
        "        a = [False,False] + [True]*(n-1)\n",
        "        primes=[]\n",
        "\n",
        "        for i in range(2,n+1):\n",
        "            if a[i]:\n",
        "                primes.append(i)\n",
        "                for j in range(2*i, n+1, i):\n",
        "                    a[j] = False\n",
        "\n",
        "        return primes\n",
        "\n",
        "    p_list = make_prime_list(len(numbers))\n",
        "\n",
        "    count = 0\n",
        "    for num in perm_set:\n",
        "        if num in p_list:\n",
        "            count += 1\n",
        "\n",
        "    return count"
      ],
      "execution_count": 0,
      "outputs": []
    }
  ]
}