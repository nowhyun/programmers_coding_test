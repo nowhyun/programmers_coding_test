{
  "nbformat": 4,
  "nbformat_minor": 0,
  "metadata": {
    "colab": {
      "name": "Full_Search_Q2_소수찾기(zzapzzap).ipynb",
      "provenance": [],
      "authorship_tag": "ABX9TyNON4Gax+FVW1ju+3AnI5EY",
      "include_colab_link": true
    },
    "kernelspec": {
      "name": "python3",
      "display_name": "Python 3"
    }
  },
  "cells": [
    {
      "cell_type": "markdown",
      "metadata": {
        "id": "view-in-github",
        "colab_type": "text"
      },
      "source": [
        "<a href=\"https://colab.research.google.com/github/nowhyun/programmers_coding_test/blob/master/Full_Search/Full_Search_Q2_%EC%86%8C%EC%88%98%EC%B0%BE%EA%B8%B0(zzapzzap).ipynb\" target=\"_parent\"><img src=\"https://colab.research.google.com/assets/colab-badge.svg\" alt=\"Open In Colab\"/></a>"
      ]
    },
    {
      "cell_type": "code",
      "metadata": {
        "id": "66ogdC1bXIn3",
        "colab_type": "code",
        "colab": {
          "base_uri": "https://localhost:8080/",
          "height": 35
        },
        "outputId": "e85f9e8c-43e4-4859-84a2-1c88b5c89b98"
      },
      "source": [
        "from itertools import permutations\n",
        "import math\n",
        "def solution(numbers):\n",
        "    answer = 0\n",
        "    prime_list = []\n",
        "    for i in range(1, len(numbers)+1):\n",
        "        prime_list.extend(list(map(int,map(''.join, permutations(numbers,i)))))\n",
        "    prime_list = set(prime_list)\n",
        "    # print(prime_list)\n",
        "    for prime in prime_list:\n",
        "        sqrt = math.floor(math.sqrt(prime))\n",
        "        # print(\"sqrt\", sqrt)\n",
        "        if prime == 1 or prime == 0:\n",
        "            continue\n",
        "        while sqrt > 1:\n",
        "            if prime % sqrt == 0:\n",
        "                 sqrt = 1\n",
        "            sqrt -=1\n",
        "        if sqrt:\n",
        "            answer += 1\n",
        "        # print(\"answer\", answer)\n",
        "    return answer\n",
        "\n",
        "\n",
        "solution(\"17\") # ret : 3\n",
        "solution(\"011\") # ret : 2"
      ],
      "execution_count": 45,
      "outputs": [
        {
          "output_type": "execute_result",
          "data": {
            "text/plain": [
              "2"
            ]
          },
          "metadata": {
            "tags": []
          },
          "execution_count": 45
        }
      ]
    }
  ]
}