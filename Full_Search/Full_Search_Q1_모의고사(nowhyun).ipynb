{
  "nbformat": 4,
  "nbformat_minor": 0,
  "metadata": {
    "colab": {
      "name": "Full_Search_Q1_모의고사(nowhyun).ipynb",
      "provenance": [],
      "authorship_tag": "ABX9TyOnlGhDJ2a5UrbiT/YCi2SH",
      "include_colab_link": true
    },
    "kernelspec": {
      "name": "python3",
      "display_name": "Python 3"
    }
  },
  "cells": [
    {
      "cell_type": "markdown",
      "metadata": {
        "id": "view-in-github",
        "colab_type": "text"
      },
      "source": [
        "<a href=\"https://colab.research.google.com/github/nowhyun/programmers_coding_test/blob/master/Full_Search/Full_Search_Q1_%EB%AA%A8%EC%9D%98%EA%B3%A0%EC%82%AC(nowhyun).ipynb\" target=\"_parent\"><img src=\"https://colab.research.google.com/assets/colab-badge.svg\" alt=\"Open In Colab\"/></a>"
      ]
    },
    {
      "cell_type": "code",
      "metadata": {
        "id": "5s5XUf5lbYoD",
        "colab_type": "code",
        "colab": {}
      },
      "source": [
        "def solution(answers):\n",
        "\n",
        "    def failer(fork_list):\n",
        "        while True:\n",
        "            yield from fork_list\n",
        "\n",
        "    fork_1 = [1,2,3,4,5]; fork_2 = [2,1,2,3,2,4,2,5]; fork_3 = [3,3,1,1,2,2,4,4,5,5]\n",
        "    student_1 = failer(fork_1); student_2 = failer(fork_2); student_3 = failer(fork_3)\n",
        "\n",
        "    import numpy as np\n",
        "\n",
        "    res_1, res_2, res_3 = 0, 0, 0\n",
        "    \n",
        "    for ans in answers:\n",
        "        # print('answer:',ans)\n",
        "\n",
        "        s1 = next(student_1)\n",
        "        # print('s1:',s1)\n",
        "        if s1 == ans:\n",
        "            res_1 += 1\n",
        "            # print('1번학생 정답')\n",
        "\n",
        "        s2 = next(student_2)\n",
        "        # print('s2:',s2)\n",
        "        if s2 == ans:\n",
        "            res_2 += 1\n",
        "            # print('2번학생 정답')\n",
        "\n",
        "        s3 = next(student_3)\n",
        "        # print('s3:',s3)\n",
        "        if s3 == ans:\n",
        "            res_3 += 1\n",
        "            # print('3번학생 정답')\n",
        "    # print()\n",
        "\n",
        "    res = np.array([res_1, res_2, res_3])\n",
        "    # print(res)\n",
        "    res_index = np.where(res==max(res))\n",
        "    # print(res_index)\n",
        "    \n",
        "    return list((np.array(res_index)+1).flatten())\n",
        "\n",
        "# nice\n",
        "def solution(answers):\n",
        "    pattern1 = [1,2,3,4,5]\n",
        "    pattern2 = [2,1,2,3,2,4,2,5]\n",
        "    pattern3 = [3,3,1,1,2,2,4,4,5,5]\n",
        "    score = [0, 0, 0]\n",
        "    result = []\n",
        "\n",
        "    for idx, answer in enumerate(answers):\n",
        "        if answer == pattern1[idx%len(pattern1)]:\n",
        "            score[0] += 1\n",
        "        if answer == pattern2[idx%len(pattern2)]:\n",
        "            score[1] += 1\n",
        "        if answer == pattern3[idx%len(pattern3)]:\n",
        "            score[2] += 1\n",
        "\n",
        "    for idx, s in enumerate(score):\n",
        "        if s == max(score):\n",
        "            result.append(idx+1)\n",
        "\n",
        "    return result"
      ],
      "execution_count": 0,
      "outputs": []
    }
  ]
}