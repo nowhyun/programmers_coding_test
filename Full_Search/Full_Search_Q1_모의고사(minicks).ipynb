{
  "nbformat": 4,
  "nbformat_minor": 0,
  "metadata": {
    "colab": {
      "name": "Full_Search_Q1_모의고사(minicks).ipynb",
      "provenance": [],
      "authorship_tag": "ABX9TyPX/WNyhxyn4VJpNnqUyo4V",
      "include_colab_link": true
    },
    "kernelspec": {
      "name": "python3",
      "display_name": "Python 3"
    }
  },
  "cells": [
    {
      "cell_type": "markdown",
      "metadata": {
        "id": "view-in-github",
        "colab_type": "text"
      },
      "source": [
        "<a href=\"https://colab.research.google.com/github/nowhyun/programmers_coding_test/blob/master/Full_Search/Full_Search_Q1_%EB%AA%A8%EC%9D%98%EA%B3%A0%EC%82%AC(minicks).ipynb\" target=\"_parent\"><img src=\"https://colab.research.google.com/assets/colab-badge.svg\" alt=\"Open In Colab\"/></a>"
      ]
    },
    {
      "cell_type": "code",
      "metadata": {
        "id": "kWaI_86QaDlM",
        "colab_type": "code",
        "colab": {}
      },
      "source": [
        "def solution(answers):\n",
        "    answer = []\n",
        "    ans1,ans2,ans3 = 0,0,0\n",
        "    for i in range(len(answers)):\n",
        "    # 1\n",
        "        if 0 == (i%5) and 1 == answers[i]:\n",
        "            ans1 += 1\n",
        "        elif 1 == (i%5) and 2 == answers[i]:\n",
        "            ans1 += 1\n",
        "        elif 2 == (i%5) and 3 == answers[i]:\n",
        "            ans1 += 1\n",
        "        elif 3 == (i%5) and 4 == answers[i]:\n",
        "            ans1 += 1\n",
        "        elif 4 == (i%5) and 5 == answers[i]:\n",
        "            ans1 += 1\n",
        "    # 2\n",
        "        if 0 == (i%2) and 2 == answers[i]:\n",
        "            ans2 += 1\n",
        "        elif 1 == (i%8) and 1 == answers[i]:\n",
        "            ans2 += 1\n",
        "        elif 3 == (i%8) and 3 == answers[i]:\n",
        "            ans2 += 1\n",
        "        elif 5 == (i%8) and 4 == answers[i]:\n",
        "            ans2 += 1\n",
        "        elif 7 == (i%8) and 5 == answers[i]:\n",
        "            ans2 += 1\n",
        "    # 3\n",
        "        if (0 == (i%10) or 1 == (i%10)) and 3 == answers[i]:\n",
        "            ans3 += 1\n",
        "        elif (2 == (i%10) or 3 == (i%10)) and 1 == answers[i]:\n",
        "            ans3 += 1\n",
        "        elif (4 == (i%10) or 5 == (i%10)) and 2 == answers[i]:\n",
        "            ans3 += 1\n",
        "        elif (6 == (i%10) or 7 == (i%10)) and 4 == answers[i]:\n",
        "            ans3 += 1\n",
        "        elif (8 == (i%10) or 9 == (i%10)) and 5 == answers[i]:\n",
        "            ans3 += 1\n",
        "            \n",
        "    if ans1 >= max(ans1,ans2,ans3):\n",
        "        answer.append(1)\n",
        "    if ans2 >= max(ans1,ans2,ans3):\n",
        "        answer.append(2)\n",
        "    if ans3 >= max(ans1,ans2,ans3):\n",
        "        answer.append(3)\n",
        "\n",
        "\n",
        "\n",
        "\n",
        "    return answer"
      ],
      "execution_count": 0,
      "outputs": []
    }
  ]
}