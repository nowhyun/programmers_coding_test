{
  "nbformat": 4,
  "nbformat_minor": 0,
  "metadata": {
    "colab": {
      "name": "Full_Search_Q1_모의고사(seungyi).ipynb",
      "provenance": [],
      "authorship_tag": "ABX9TyO4KYfnAy+XOjhEVOWt2vSz",
      "include_colab_link": true
    },
    "kernelspec": {
      "name": "python3",
      "display_name": "Python 3"
    }
  },
  "cells": [
    {
      "cell_type": "markdown",
      "metadata": {
        "id": "view-in-github",
        "colab_type": "text"
      },
      "source": [
        "<a href=\"https://colab.research.google.com/github/nowhyun/programmers_coding_test/blob/master/Full_Search/Full_Search_Q1_%EB%AA%A8%EC%9D%98%EA%B3%A0%EC%82%AC(seungyi).ipynb\" target=\"_parent\"><img src=\"https://colab.research.google.com/assets/colab-badge.svg\" alt=\"Open In Colab\"/></a>"
      ]
    },
    {
      "cell_type": "code",
      "metadata": {
        "id": "2P6GsDma-f9n",
        "colab_type": "code",
        "colab": {}
      },
      "source": [
        "def solution(answers):\n",
        "    math = [[1,2,3,4,5],[2,1,2,3,2,4,2,5],[3,3,1,1,2,2,4,4,5,5]]\n",
        "    count =[0,0,0]\n",
        "    answer = []\n",
        "\n",
        "    for idx,j in enumerate(math):\n",
        "        for i in range(len(answers)):\n",
        "            if answers[i] == math[idx][i%len(j)]:\n",
        "                count[idx] += 1\n",
        "\n",
        "    for idx, i in enumerate(count):\n",
        "        if max(count) == i:\n",
        "            answer.append(idx + 1)\n",
        "\n",
        "    return answer"
      ],
      "execution_count": 0,
      "outputs": []
    }
  ]
}