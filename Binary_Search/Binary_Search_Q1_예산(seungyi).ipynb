{
  "nbformat": 4,
  "nbformat_minor": 0,
  "metadata": {
    "colab": {
      "name": "Binary_Search_Q1_예산(seungyi).ipynb",
      "provenance": [],
      "authorship_tag": "ABX9TyPB+95klaHAkh2AkjJvpoC9",
      "include_colab_link": true
    },
    "kernelspec": {
      "name": "python3",
      "display_name": "Python 3"
    }
  },
  "cells": [
    {
      "cell_type": "markdown",
      "metadata": {
        "id": "view-in-github",
        "colab_type": "text"
      },
      "source": [
        "<a href=\"https://colab.research.google.com/github/nowhyun/programmers_coding_test/blob/master/Binary_Search/Binary_Search_Q1_%EC%98%88%EC%82%B0(seungyi).ipynb\" target=\"_parent\"><img src=\"https://colab.research.google.com/assets/colab-badge.svg\" alt=\"Open In Colab\"/></a>"
      ]
    },
    {
      "cell_type": "code",
      "metadata": {
        "id": "tXsdMJQ6_jxS",
        "colab_type": "code",
        "colab": {}
      },
      "source": [
        "def solution(budgets, M):\n",
        "    mid_list = []\n",
        "    diff_list = []\n",
        "    left = 0\n",
        "    right = max(budgets)\n",
        "    mid = left + (right - left) // 2\n",
        "    mid1 = 0\n",
        "\n",
        "    if sum(budgets) > M:\n",
        "\n",
        "        while mid != mid1:\n",
        "            budget_new = []\n",
        "\n",
        "            for i in budgets:\n",
        "                if i > mid:\n",
        "                    budget_new.append(mid)\n",
        "                else:\n",
        "                    budget_new.append(i)\n",
        "\n",
        "            sum_new = sum(budget_new)\n",
        "\n",
        "            if sum_new > M :\n",
        "                right = mid\n",
        "            elif sum_new < M:\n",
        "                mid_list.append(mid)\n",
        "                left = mid\n",
        "                diff_list.append(M-sum_new)\n",
        "            if sum_new == M :\n",
        "                break\n",
        "\n",
        "            mid1 = mid\n",
        "            mid = left + (right - left) //2\n",
        "            \n",
        "    else:\n",
        "        mid = max(budgets)\n",
        "\n",
        "\n",
        "    for idx, value in enumerate(diff_list):\n",
        "        if value == min(diff_list):\n",
        "            mid = mid_list[idx]\n",
        "\n",
        "    return mid"
      ],
      "execution_count": 0,
      "outputs": []
    }
  ]
}