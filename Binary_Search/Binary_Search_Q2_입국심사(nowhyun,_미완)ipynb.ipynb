{
  "nbformat": 4,
  "nbformat_minor": 0,
  "metadata": {
    "colab": {
      "name": "Binary_Search_Q2_입국심사(nowhyun, 미완)ipynb",
      "provenance": [],
      "collapsed_sections": [],
      "authorship_tag": "ABX9TyPjkxwxJAUWCMTcsV46cb4m",
      "include_colab_link": true
    },
    "kernelspec": {
      "name": "python3",
      "display_name": "Python 3"
    }
  },
  "cells": [
    {
      "cell_type": "markdown",
      "metadata": {
        "id": "view-in-github",
        "colab_type": "text"
      },
      "source": [
        "<a href=\"https://colab.research.google.com/github/nowhyun/programmers_coding_test/blob/master/Binary_Search/Binary_Search_Q2_%EC%9E%85%EA%B5%AD%EC%8B%AC%EC%82%AC(nowhyun%2C_%EB%AF%B8%EC%99%84)ipynb.ipynb\" target=\"_parent\"><img src=\"https://colab.research.google.com/assets/colab-badge.svg\" alt=\"Open In Colab\"/></a>"
      ]
    },
    {
      "cell_type": "code",
      "metadata": {
        "id": "RwNpjbgE8H_F",
        "colab_type": "code",
        "outputId": "cbe7c5c1-3a9a-412d-896a-9a568bd06510",
        "colab": {
          "base_uri": "https://localhost:8080/",
          "height": 34
        }
      },
      "source": [
        "# 프로그래머스 / 이분탐색 / Q2. 입국심사\n",
        "n = 7; times = [7,10] # answer 30\n",
        "# n = 1; times = [2,2] # answer 2\n",
        "# n = 2; times = [1,2,2,2,100]; # answer 2\n",
        "# test1-3 성공 4-9 시간초과\n",
        "def solution_timeover(n, times):\n",
        "    time_flow = []\n",
        "    answer = []\n",
        "    i = 1\n",
        "    toggle = True\n",
        "\n",
        "    if n < len(times):\n",
        "        return times[n-1]\n",
        "    while toggle:\n",
        "        time_flow.extend([time*i for time in times])\n",
        "        i += 1\n",
        "\n",
        "        for idx in range(len(times)):\n",
        "            if sum([time_flow[-idx-1]//time for time in times]) == n:\n",
        "                answer.append(time_flow[-idx-1])\n",
        "                # print(min(answer))\n",
        "        if len(answer) != 0:\n",
        "            toggle = False\n",
        "\n",
        "    return min(answer)\n",
        "\n",
        "solution_timeover(n,times)"
      ],
      "execution_count": 0,
      "outputs": [
        {
          "output_type": "execute_result",
          "data": {
            "text/plain": [
              "30"
            ]
          },
          "metadata": {
            "tags": []
          },
          "execution_count": 2
        }
      ]
    },
    {
      "cell_type": "code",
      "metadata": {
        "id": "WLdIJ6s48xl4",
        "colab_type": "code",
        "outputId": "057ebc1d-3409-40cf-f196-8123573458fd",
        "colab": {
          "base_uri": "https://localhost:8080/",
          "height": 34
        }
      },
      "source": [
        "'''\n",
        "1. time_flow = max(times) 이하 모든 배수 값들을 갖는 리스트\n",
        "2. sum(answer/times) == n 인 answer을 ans_list에 append\n",
        "    3. 이 때 이분 탐색 적용\n",
        "'''\n",
        "n = 7; times = [7,10] # answer 30\n",
        "n = 1; times = [2,2] # answer 2\n",
        "# n = 2; times = [1,2,2,2,100]; # answer 2\n",
        "# n = 10; times = [1,5] # answer 9\n",
        "# 테스트 1-5 통과 6-9 시간초과\n",
        "from math import ceil\n",
        "def solution_time_over(n, times):\n",
        "    if n < len(times):\n",
        "        return times[n-1]\n",
        "\n",
        "    time_flow = set()\n",
        "    max_candidate = max(times) * (ceil(n/len(times)))\n",
        "    # # print('max_candidate:', max_candidate)\n",
        "    \n",
        "    for time in times:\n",
        "        candidate = 1\n",
        "        counter = 1\n",
        "        while candidate <= max_candidate :\n",
        "            time_flow.add(candidate)\n",
        "            candidate = counter * time\n",
        "            counter += 1\n",
        "    time_flow = sorted(list(time_flow))\n",
        "\n",
        "    print(time_flow)\n",
        "\n",
        "\n",
        "    ans_list = []\n",
        "    left = 0\n",
        "    right = len(time_flow)-1\n",
        "    prev_mid_val = 0\n",
        "\n",
        "    # print('while...')\n",
        "    while left < right:\n",
        "        mid = (left+right)//2\n",
        "        mid_val = time_flow[mid]\n",
        "        # print('1',mid, mid_val)\n",
        "\n",
        "        if mid_val == prev_mid_val: break\n",
        "        check = sum([mid_val//time for time in times])\n",
        "        # print('2',check)\n",
        "        if check == n:\n",
        "            del time_flow[mid]\n",
        "            ans_list.append(mid_val)\n",
        "        elif check < n:\n",
        "            left = mid\n",
        "        else: \n",
        "            right = mid\n",
        "        # print('3',left,right)\n",
        "\n",
        "        prev_mid_val = mid_val\n",
        "\n",
        "    # print(ans_list)\n",
        "\n",
        "    # print('return:', min(ans_list))\n",
        "    return min(ans_list)\n",
        "        \n",
        "\n",
        "solution(n,times)"
      ],
      "execution_count": 0,
      "outputs": [
        {
          "output_type": "execute_result",
          "data": {
            "text/plain": [
              "2"
            ]
          },
          "metadata": {
            "tags": []
          },
          "execution_count": 34
        }
      ]
    },
    {
      "cell_type": "code",
      "metadata": {
        "id": "AmOugRmK9xHK",
        "colab_type": "code",
        "outputId": "a05bf33d-578b-4774-d89d-fbf4a4b766a1",
        "colab": {
          "base_uri": "https://localhost:8080/",
          "height": 34
        }
      },
      "source": [
        "n = 6; times = [7,10] # answer 30\n",
        "# n = 1; times = [2,2] # answer 2\n",
        "# n = 2; times = [1,2,2,2,100]; # answer 2\n",
        "# n = 10; times = [1,5] # answer 9\n",
        "# 테스트 1-2 통과 3-9 실패\n",
        "def solution(n, times):\n",
        "    if n < len(times):\n",
        "        return times[n-1]\n",
        "\n",
        "    max_candidate = max(times) * (ceil(n/len(times)))\n",
        "    # print(max_candidate)\n",
        "    left = 1\n",
        "    right = max_candidate # 40\n",
        "    ans_list = []\n",
        "\n",
        "    prev_mid = 1\n",
        "    while left <= right:\n",
        "        mid = (left+right)//2\n",
        "        if prev_mid == mid: break\n",
        "\n",
        "        check = sum([mid//time for time in times])\n",
        "        if check == n:\n",
        "            ans_list.append(mid)\n",
        "        elif check < n:\n",
        "            left = mid\n",
        "        else: \n",
        "            right = mid\n",
        "        prev_mid = mid\n",
        "\n",
        "    return(min(ans_list))\n",
        "\n",
        "solution(n, times)\n"
      ],
      "execution_count": 0,
      "outputs": [
        {
          "output_type": "execute_result",
          "data": {
            "text/plain": [
              "28"
            ]
          },
          "metadata": {
            "tags": []
          },
          "execution_count": 48
        }
      ]
    },
    {
      "cell_type": "code",
      "metadata": {
        "id": "fuvw1srS5e30",
        "colab_type": "code",
        "colab": {}
      },
      "source": [
        ""
      ],
      "execution_count": 0,
      "outputs": []
    }
  ]
}