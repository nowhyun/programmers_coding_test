{
  "nbformat": 4,
  "nbformat_minor": 0,
  "metadata": {
    "colab": {
      "name": "Binary_Search_Q1_예산(nowhyun).ipynb",
      "provenance": [],
      "authorship_tag": "ABX9TyN0RPWVBLhhAoqjzLO7CX5N",
      "include_colab_link": true
    },
    "kernelspec": {
      "name": "python3",
      "display_name": "Python 3"
    }
  },
  "cells": [
    {
      "cell_type": "markdown",
      "metadata": {
        "id": "view-in-github",
        "colab_type": "text"
      },
      "source": [
        "<a href=\"https://colab.research.google.com/github/nowhyun/programmers_coding_test/blob/master/Binary_Search/Binary_Search_Q1_%EC%98%88%EC%82%B0(nowhyun).ipynb\" target=\"_parent\"><img src=\"https://colab.research.google.com/assets/colab-badge.svg\" alt=\"Open In Colab\"/></a>"
      ]
    },
    {
      "cell_type": "code",
      "metadata": {
        "id": "0M5fOADfcHfF",
        "colab_type": "code",
        "colab": {}
      },
      "source": [
        "'''\n",
        "1. 예산안을 정렬하고\n",
        "2. 로우, 미드, 하이 지정하고\n",
        "3. 미드값보다 큰 원소는 미드로 대체하고 합계가 M이하인지 체크\n",
        "  4. M이하라면 로우=미드 해서 미드값을 더 크게 조정\n",
        "  5. M초과라면 하이=미드 해서 미드값을 더 작게 조정\n",
        "6. 같은 값이 이터레이션되면 와일문 종료\n",
        "'''\n",
        "\n",
        "def solution(budgets, M):\n",
        "    budgets = sorted(budgets)\n",
        "    # print('sorted_budgets:',budgets)\n",
        "    if sum(budgets) <= M:\n",
        "        mid = max(budgets)\n",
        "        # print(mid)\n",
        "        return mid\n",
        "\n",
        "    elif sum(budgets)/len(budgets) >= M:\n",
        "        mid = M//len(budgets)\n",
        "        return mid\n",
        "\n",
        "    else:\n",
        "        start = 0 # 근데 왜..?\n",
        "        # start = budgets[0]\n",
        "        final = budgets[-1]\n",
        "        budgets_ = budgets\n",
        "        # print(sum(budgets), M)\n",
        "        \n",
        "        mid = 0\n",
        "        mid_previous = 1\n",
        "        while mid != mid_previous :\n",
        "            mid_previous = mid\n",
        "            mid = int((start + final)/2)\n",
        "            # print('mid:',mid)\n",
        "            budgets_ = [mid if val>mid else val for val in budgets]\n",
        "            # print(budgets_)\n",
        "\n",
        "            if sum(budgets_) < M:\n",
        "                start = mid\n",
        "            else: \n",
        "                final = mid\n",
        "\n",
        "        return mid"
      ],
      "execution_count": 0,
      "outputs": []
    }
  ]
}