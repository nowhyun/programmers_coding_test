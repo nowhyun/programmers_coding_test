{
  "nbformat": 4,
  "nbformat_minor": 0,
  "metadata": {
    "colab": {
      "name": "Sort_Q1_K번째수(zzapzzap).ipynb",
      "provenance": [],
      "authorship_tag": "ABX9TyPeLCJ9qXane81ZvCdogwI2",
      "include_colab_link": true
    },
    "kernelspec": {
      "name": "python3",
      "display_name": "Python 3"
    }
  },
  "cells": [
    {
      "cell_type": "markdown",
      "metadata": {
        "id": "view-in-github",
        "colab_type": "text"
      },
      "source": [
        "<a href=\"https://colab.research.google.com/github/nowhyun/programmers_coding_test/blob/master/Sort/Sort_Q1_K%EB%B2%88%EC%A7%B8%EC%88%98(zzapzzap).ipynb\" target=\"_parent\"><img src=\"https://colab.research.google.com/assets/colab-badge.svg\" alt=\"Open In Colab\"/></a>"
      ]
    },
    {
      "cell_type": "code",
      "metadata": {
        "id": "nKb1-d5-Nmol",
        "colab_type": "code",
        "colab": {}
      },
      "source": [
        "def solution(array, commands):\n",
        "    answer = []\n",
        "    temp = []\n",
        "    for command in commands:\n",
        "        temp = sorted(array[command[0] - 1 : command[1]])\n",
        "        answer.append(temp[command[2] -  1])\n",
        "    return answer"
      ],
      "execution_count": 0,
      "outputs": []
    }
  ]
}