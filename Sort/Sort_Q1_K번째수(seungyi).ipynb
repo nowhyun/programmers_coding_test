{
  "nbformat": 4,
  "nbformat_minor": 0,
  "metadata": {
    "colab": {
      "name": "Sort_Q1_K번째수(seungyi).ipynb",
      "provenance": [],
      "authorship_tag": "ABX9TyOi4xJF84ChjAVweT1/Ix1q",
      "include_colab_link": true
    },
    "kernelspec": {
      "name": "python3",
      "display_name": "Python 3"
    }
  },
  "cells": [
    {
      "cell_type": "markdown",
      "metadata": {
        "id": "view-in-github",
        "colab_type": "text"
      },
      "source": [
        "<a href=\"https://colab.research.google.com/github/nowhyun/programmers_coding_test/blob/master/Sort/Sort_Q1_K%EB%B2%88%EC%A7%B8%EC%88%98(seungyi).ipynb\" target=\"_parent\"><img src=\"https://colab.research.google.com/assets/colab-badge.svg\" alt=\"Open In Colab\"/></a>"
      ]
    },
    {
      "cell_type": "code",
      "metadata": {
        "id": "68vPJqW59XVz",
        "colab_type": "code",
        "colab": {}
      },
      "source": [
        "def solution(array, commands):\n",
        "    answer = []\n",
        "    \n",
        "    for element in commands:\n",
        "        i = element[0]\n",
        "        j = element[1]\n",
        "        k = element[2]\n",
        "\n",
        "        cut_array = []\n",
        "\n",
        "        for num in range(i-1,j,1):\n",
        "            cut_array.append(array[num])\n",
        "        cut_array.sort()\n",
        "        answer.append(cut_array[k-1])\n",
        "        \n",
        "    return answer"
      ],
      "execution_count": 0,
      "outputs": []
    }
  ]
}