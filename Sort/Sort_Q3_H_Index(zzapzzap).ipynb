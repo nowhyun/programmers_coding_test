{
  "nbformat": 4,
  "nbformat_minor": 0,
  "metadata": {
    "colab": {
      "name": "Sort_Q3_H-Index(zzapzzap).ipynb",
      "provenance": [],
      "authorship_tag": "ABX9TyOdkrXCrwnmdsd+Ecv7TKuG",
      "include_colab_link": true
    },
    "kernelspec": {
      "name": "python3",
      "display_name": "Python 3"
    }
  },
  "cells": [
    {
      "cell_type": "markdown",
      "metadata": {
        "id": "view-in-github",
        "colab_type": "text"
      },
      "source": [
        "<a href=\"https://colab.research.google.com/github/nowhyun/programmers_coding_test/blob/master/Sort/Sort_Q3_H_Index(zzapzzap).ipynb\" target=\"_parent\"><img src=\"https://colab.research.google.com/assets/colab-badge.svg\" alt=\"Open In Colab\"/></a>"
      ]
    },
    {
      "cell_type": "code",
      "metadata": {
        "id": "aN6xLNhngUhV",
        "colab_type": "code",
        "colab": {
          "base_uri": "https://localhost:8080/",
          "height": 34
        },
        "outputId": "05bbe536-6c07-45a6-8ed2-e2654d9a1a89"
      },
      "source": [
        "def solution(citations):\n",
        "    done = False\n",
        "    i = 0\n",
        "    citations = sorted(citations)\n",
        "    while not done:\n",
        "        # print(i)\n",
        "        # print(list(filter(lambda x : x >= i, citations)))\n",
        "        # print(list(filter(lambda x : x < i, citations)))\n",
        "        # print(\"\")\n",
        "        if len(list(filter(lambda x : x >= i, citations))) >= i and\\\n",
        "            len(list(filter(lambda x : x< i, citations))) <= i:\n",
        "            i +=1\n",
        "        else:\n",
        "            done = True\n",
        "    if i != 0:\n",
        "        return i-1\n",
        "    else:\n",
        "        return 0\n",
        "\n",
        "solution([3, 0, 6, 1, 5])"
      ],
      "execution_count": 8,
      "outputs": [
        {
          "output_type": "execute_result",
          "data": {
            "text/plain": [
              "3"
            ]
          },
          "metadata": {
            "tags": []
          },
          "execution_count": 8
        }
      ]
    }
  ]
}