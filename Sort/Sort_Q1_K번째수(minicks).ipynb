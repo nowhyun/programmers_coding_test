{
  "nbformat": 4,
  "nbformat_minor": 0,
  "metadata": {
    "colab": {
      "name": "Sort_Q1_K번째수(minicks).ipynb",
      "provenance": []
    },
    "kernelspec": {
      "name": "python3",
      "display_name": "Python 3"
    }
  },
  "cells": [
    {
      "cell_type": "code",
      "metadata": {
        "id": "TUXVvitiScy6",
        "colab_type": "code",
        "colab": {}
      },
      "source": [
        "def solution(array, commands):\n",
        "    answer = []\n",
        "    #command 별로 사용\n",
        "    for com in commands:\n",
        "        list = sorted(array[com[0]-1:com[1]])\n",
        "        answer.append(list[com[2]-1])\n",
        "    return answer"
      ],
      "execution_count": 0,
      "outputs": []
    }
  ]
}