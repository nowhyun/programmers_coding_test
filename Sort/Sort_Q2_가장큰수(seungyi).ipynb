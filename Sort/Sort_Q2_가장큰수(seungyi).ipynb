{
  "nbformat": 4,
  "nbformat_minor": 0,
  "metadata": {
    "colab": {
      "name": "Sort_Q2_가장큰수(seungyi).ipynb",
      "provenance": [],
      "authorship_tag": "ABX9TyNSHp++FR0ijkzepHQTRbv6",
      "include_colab_link": true
    },
    "kernelspec": {
      "name": "python3",
      "display_name": "Python 3"
    }
  },
  "cells": [
    {
      "cell_type": "markdown",
      "metadata": {
        "id": "view-in-github",
        "colab_type": "text"
      },
      "source": [
        "<a href=\"https://colab.research.google.com/github/nowhyun/programmers_coding_test/blob/master/Sort/Sort_Q2_%EA%B0%80%EC%9E%A5%ED%81%B0%EC%88%98(seungyi).ipynb\" target=\"_parent\"><img src=\"https://colab.research.google.com/assets/colab-badge.svg\" alt=\"Open In Colab\"/></a>"
      ]
    },
    {
      "cell_type": "code",
      "metadata": {
        "id": "M_Rz7fxF-Dem",
        "colab_type": "code",
        "colab": {}
      },
      "source": [
        "def solution(numbers):\n",
        "    numbers = list(map(str, numbers))\n",
        "    answer = \"\".join(sorted(numbers, key = lambda x : (x[0], x[1%len(x)], x[2%len(x)], x[3%len(x)]), \n",
        "                             reverse = True))\n",
        "    return answer if int(answer) !=0 else \"0\""
      ],
      "execution_count": 0,
      "outputs": []
    }
  ]
}