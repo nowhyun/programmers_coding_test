{
  "nbformat": 4,
  "nbformat_minor": 0,
  "metadata": {
    "colab": {
      "name": "Sort_Q2_가장 큰 수(nowhyun).ipynb",
      "provenance": [],
      "authorship_tag": "ABX9TyNJuk6dpaQQQ2zQGb5GoT92",
      "include_colab_link": true
    },
    "kernelspec": {
      "name": "python3",
      "display_name": "Python 3"
    }
  },
  "cells": [
    {
      "cell_type": "markdown",
      "metadata": {
        "id": "view-in-github",
        "colab_type": "text"
      },
      "source": [
        "<a href=\"https://colab.research.google.com/github/nowhyun/programmers_coding_test/blob/master/Sort/Sort_Q2_%EA%B0%80%EC%9E%A5_%ED%81%B0_%EC%88%98(nowhyun).ipynb\" target=\"_parent\"><img src=\"https://colab.research.google.com/assets/colab-badge.svg\" alt=\"Open In Colab\"/></a>"
      ]
    },
    {
      "cell_type": "code",
      "metadata": {
        "id": "unjP-eY2aaMr",
        "colab_type": "code",
        "colab": {}
      },
      "source": [
        "import itertools\n",
        "\n",
        "def solution_timeover(numbers):\n",
        "    numbers = [str(num) for num in numbers]\n",
        "    # numbers = list(map(str, numbers))\n",
        "    # print(numbers)\n",
        "\n",
        "    perm_numbers = list(map(''.join, itertools.permutations(numbers)))\n",
        "    perm_numbers.sort()\n",
        "\n",
        "    biggest_num = perm_numbers[-1]\n",
        "    print(biggest_num)\n",
        "\n",
        "    return(biggest_num)\n",
        "\n",
        "\n",
        "def solution(numbers):\n",
        "    numbers = [str(num) for num in numbers]\n",
        "    # print(numbers); print()\n",
        "\n",
        "    # 어차피 원소는 최대 4자리 수, 싹다 4자리로 만들고 비교하면 str이니까 알아서 처리.\n",
        "    res_list = sorted(numbers, key=lambda x:x*4, reverse=True)\n",
        "    # print(res_list); print()\n",
        "\n",
        "    result = ''.join(res_list)\n",
        "    print(result)\n",
        "\n",
        "    if int(result) == 0:\n",
        "        result = 0\n",
        "\n",
        "    return(result)"
      ],
      "execution_count": 0,
      "outputs": []
    }
  ]
}