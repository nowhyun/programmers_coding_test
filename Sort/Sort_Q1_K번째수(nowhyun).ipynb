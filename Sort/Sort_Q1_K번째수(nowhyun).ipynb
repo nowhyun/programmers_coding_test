{
  "nbformat": 4,
  "nbformat_minor": 0,
  "metadata": {
    "colab": {
      "name": "Sort_Q1_K번째수(nowhyun).ipynb",
      "provenance": [],
      "authorship_tag": "ABX9TyOIGQ+6WfumonZC+d2XSUh1",
      "include_colab_link": true
    },
    "kernelspec": {
      "name": "python3",
      "display_name": "Python 3"
    }
  },
  "cells": [
    {
      "cell_type": "markdown",
      "metadata": {
        "id": "view-in-github",
        "colab_type": "text"
      },
      "source": [
        "<a href=\"https://colab.research.google.com/github/nowhyun/programmers_coding_test/blob/master/Sort/Sort_Q1_K%EB%B2%88%EC%A7%B8%EC%88%98(nowhyun).ipynb\" target=\"_parent\"><img src=\"https://colab.research.google.com/assets/colab-badge.svg\" alt=\"Open In Colab\"/></a>"
      ]
    },
    {
      "cell_type": "code",
      "metadata": {
        "id": "ruZQmxUXZsVH",
        "colab_type": "code",
        "colab": {}
      },
      "source": [
        "def solution(array, commands):\n",
        "    res = []\n",
        "    for command in commands:\n",
        "        i, j, k = command\n",
        "        # print('i:{}, j:{}, k:{}'.format(i,j,k))\n",
        "        unsorted_array = array[i-1:j]\n",
        "        # print(unsorted_array)\n",
        "        sorted_array = sorted(unsorted_array)\n",
        "        # print(sorted_array)\n",
        "        k_elmt = sorted_array[k-1]\n",
        "        # print(k_elmt)\n",
        "        res.append(k_elmt)\n",
        "        # print()\n",
        "\n",
        "    return res\n",
        "\n",
        "# best\n",
        "def solution(array, commands):\n",
        "    answer = []\n",
        "    for com in commands:\n",
        "        answer.append(sorted(array[com[0]-1:com[1]])[com[2]-1])\n",
        "        \n",
        "    return answer"
      ],
      "execution_count": 0,
      "outputs": []
    }
  ]
}