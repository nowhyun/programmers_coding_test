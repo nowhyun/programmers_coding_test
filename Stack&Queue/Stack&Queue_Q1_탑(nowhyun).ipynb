{
  "nbformat": 4,
  "nbformat_minor": 0,
  "metadata": {
    "colab": {
      "name": "Stack&Queue_Q1_탑(nowhyun).ipynb",
      "provenance": [],
      "collapsed_sections": [],
      "authorship_tag": "ABX9TyOMMObInJmxrr7j78WuUE9Z",
      "include_colab_link": true
    },
    "kernelspec": {
      "name": "python3",
      "display_name": "Python 3"
    }
  },
  "cells": [
    {
      "cell_type": "markdown",
      "metadata": {
        "id": "view-in-github",
        "colab_type": "text"
      },
      "source": [
        "<a href=\"https://colab.research.google.com/github/nowhyun/programmers_coding_test/blob/master/Stack%26Queue/Stack%26Queue_Q1_%ED%83%91(nowhyun).ipynb\" target=\"_parent\"><img src=\"https://colab.research.google.com/assets/colab-badge.svg\" alt=\"Open In Colab\"/></a>"
      ]
    },
    {
      "cell_type": "code",
      "metadata": {
        "id": "oZs_EoUFWE9u",
        "colab_type": "code",
        "colab": {}
      },
      "source": [
        "def solution(heights):\n",
        "    print('초기 스택:',heights)\n",
        "    r_top_heights = []\n",
        "\n",
        "    while len(heights) != 0:\n",
        "        fst_temp = heights.pop() # 가장 끝의 원소 반환\n",
        "        toggle = True\n",
        "\n",
        "        for i in range(len(heights)-1,-1,-1):\n",
        "            snd_temp = heights[i] # 남은 heights의 원소들을 순회\n",
        "\n",
        "            if snd_temp > fst_temp:\n",
        "                r_top = i+1 # 만약 fst_temp보다 큰 snd_temp발견시 snd_temp의 고유넘버 = 송신탑\n",
        "                r_top_heights.append(r_top)\n",
        "                toggle = False\n",
        "                break\n",
        "\n",
        "        if toggle == True:\n",
        "            r_top = 0\n",
        "            r_top_heights.append(r_top)\n",
        "\n",
        "    return r_top_heights[::-1]\n",
        "\n",
        "# best\n",
        "def solution(heights):\n",
        "    ans = [0] * len(heights) # 초기화\n",
        "    for i in range(len(heights)-1, 0, -1):\n",
        "        for j in range(i-1, -1, -1):\n",
        "            if heights[i] < heights[j]:\n",
        "                ans[i] = j+1\n",
        "                break\n",
        "    return ans"
      ],
      "execution_count": 0,
      "outputs": []
    }
  ]
}