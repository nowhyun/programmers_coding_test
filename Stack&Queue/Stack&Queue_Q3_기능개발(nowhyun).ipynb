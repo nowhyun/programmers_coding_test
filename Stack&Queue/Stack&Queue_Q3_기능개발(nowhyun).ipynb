{
  "nbformat": 4,
  "nbformat_minor": 0,
  "metadata": {
    "colab": {
      "name": "Stack&Queue_Q3_기능개발(nowhyun).ipynb",
      "provenance": [],
      "authorship_tag": "ABX9TyN80fPLZ27UwDnHE8iqSQuJ",
      "include_colab_link": true
    },
    "kernelspec": {
      "name": "python3",
      "display_name": "Python 3"
    }
  },
  "cells": [
    {
      "cell_type": "markdown",
      "metadata": {
        "id": "view-in-github",
        "colab_type": "text"
      },
      "source": [
        "<a href=\"https://colab.research.google.com/github/nowhyun/programmers_coding_test/blob/master/Stack%26Queue/Stack%26Queue_Q3_%EA%B8%B0%EB%8A%A5%EA%B0%9C%EB%B0%9C(nowhyun).ipynb\" target=\"_parent\"><img src=\"https://colab.research.google.com/assets/colab-badge.svg\" alt=\"Open In Colab\"/></a>"
      ]
    },
    {
      "cell_type": "code",
      "metadata": {
        "id": "9Ofn1z7Xc6m1",
        "colab_type": "code",
        "colab": {
          "base_uri": "https://localhost:8080/",
          "height": 336
        },
        "outputId": "3e4997b6-6185-4f18-b316-ea9d92d4ace8"
      },
      "source": [
        "progresses=[93,30,55]; speeds=[1,30,5] # answer=[2,1]\n",
        "\n",
        "from collections import deque\n",
        "# 0.05~0.38ms\n",
        "def solution(progresses, speeds):\n",
        "    progresses = deque(progresses)\n",
        "    speeds = deque(speeds)\n",
        "    # print(progresses)\n",
        "    release = []\n",
        "    while len(progresses)>0:\n",
        "        '''굳이 모든 원소를 계산하지 않고 0번째 원소만 계산하면 속도 개선 가능'''\n",
        "        progresses = deque([prog+speed for prog,speed in zip(progresses, speeds)])\n",
        "        print('prog: {}, speeds: {}'.format(progresses, speeds))\n",
        "        cnt = 0\n",
        "        while progresses[0] >= 100:\n",
        "            print('2nd while start')\n",
        "            progresses.popleft()\n",
        "            speeds.popleft()\n",
        "            cnt += 1\n",
        "            print('--prog: {}, speeds: {}'.format(progresses, speeds))\n",
        "            if len(progresses) == 0: break\n",
        "            print('2nd while end')\n",
        "        if cnt != 0: release.append(cnt)\n",
        "    \n",
        "    # print(release)\n",
        "    return release\n",
        "        \n",
        "solution(progresses, speeds)"
      ],
      "execution_count": 21,
      "outputs": [
        {
          "output_type": "stream",
          "text": [
            "prog: deque([94, 60, 60]), speeds: deque([1, 30, 5])\n",
            "prog: deque([95, 90, 65]), speeds: deque([1, 30, 5])\n",
            "prog: deque([96, 120, 70]), speeds: deque([1, 30, 5])\n",
            "prog: deque([97, 150, 75]), speeds: deque([1, 30, 5])\n",
            "prog: deque([98, 180, 80]), speeds: deque([1, 30, 5])\n",
            "prog: deque([99, 210, 85]), speeds: deque([1, 30, 5])\n",
            "prog: deque([100, 240, 90]), speeds: deque([1, 30, 5])\n",
            "2nd while start\n",
            "--prog: deque([240, 90]), speeds: deque([30, 5])\n",
            "2nd while end\n",
            "2nd while start\n",
            "--prog: deque([90]), speeds: deque([5])\n",
            "2nd while end\n",
            "prog: deque([95]), speeds: deque([5])\n",
            "prog: deque([100]), speeds: deque([5])\n",
            "2nd while start\n",
            "--prog: deque([]), speeds: deque([])\n"
          ],
          "name": "stdout"
        },
        {
          "output_type": "execute_result",
          "data": {
            "text/plain": [
              "[2, 1]"
            ]
          },
          "metadata": {
            "tags": []
          },
          "execution_count": 21
        }
      ]
    },
    {
      "cell_type": "code",
      "metadata": {
        "id": "A7BVjPxUdx7U",
        "colab_type": "code",
        "colab": {
          "base_uri": "https://localhost:8080/",
          "height": 301
        },
        "outputId": "80d2bdee-cec1-4da6-97e8-7f53d770cfc5"
      },
      "source": [
        "progresses=[93,30,55]; speeds=[1,30,5] # answer=[2,1]\n",
        "\n",
        "from collections import deque\n",
        "# 0.04~0.09ms 개선.\n",
        "def solution(progresses, speeds):\n",
        "    progresses = deque(progresses)\n",
        "    speeds = deque(speeds)\n",
        "    release = []\n",
        "    day = 0\n",
        "    cnt = 0\n",
        "    while len(progresses)>0:\n",
        "        print('day: {}, prog: {}, speeds: {}'.format(day, progresses, speeds))\n",
        "        if (progresses[0] + speeds[0]*day) >= 100:\n",
        "            progresses.popleft()\n",
        "            speeds.popleft()\n",
        "            print('--day: {}, prog: {}, speeds: {}'.format(day, progresses, speeds))\n",
        "            cnt += 1\n",
        "        else:\n",
        "            if cnt != 0: \n",
        "                release.append(cnt)\n",
        "                cnt = 0\n",
        "            day += 1\n",
        "    release.append(cnt)\n",
        "\n",
        "    return release\n",
        "        \n",
        "solution(progresses, speeds)"
      ],
      "execution_count": 16,
      "outputs": [
        {
          "output_type": "stream",
          "text": [
            "day: 0, prog: deque([93, 30, 55]), speeds: deque([1, 30, 5])\n",
            "day: 1, prog: deque([93, 30, 55]), speeds: deque([1, 30, 5])\n",
            "day: 2, prog: deque([93, 30, 55]), speeds: deque([1, 30, 5])\n",
            "day: 3, prog: deque([93, 30, 55]), speeds: deque([1, 30, 5])\n",
            "day: 4, prog: deque([93, 30, 55]), speeds: deque([1, 30, 5])\n",
            "day: 5, prog: deque([93, 30, 55]), speeds: deque([1, 30, 5])\n",
            "day: 6, prog: deque([93, 30, 55]), speeds: deque([1, 30, 5])\n",
            "day: 7, prog: deque([93, 30, 55]), speeds: deque([1, 30, 5])\n",
            "--day: 7, prog: deque([30, 55]), speeds: deque([30, 5])\n",
            "day: 7, prog: deque([30, 55]), speeds: deque([30, 5])\n",
            "--day: 7, prog: deque([55]), speeds: deque([5])\n",
            "day: 7, prog: deque([55]), speeds: deque([5])\n",
            "day: 8, prog: deque([55]), speeds: deque([5])\n",
            "day: 9, prog: deque([55]), speeds: deque([5])\n",
            "--day: 9, prog: deque([]), speeds: deque([])\n"
          ],
          "name": "stdout"
        },
        {
          "output_type": "execute_result",
          "data": {
            "text/plain": [
              "[2, 1]"
            ]
          },
          "metadata": {
            "tags": []
          },
          "execution_count": 16
        }
      ]
    },
    {
      "cell_type": "code",
      "metadata": {
        "id": "VxRsQhLRUo1K",
        "colab_type": "code",
        "colab": {
          "base_uri": "https://localhost:8080/",
          "height": 265
        },
        "outputId": "9a91d8d8-0f01-40fc-a2d4-db467d3f3f31"
      },
      "source": [
        "progresses=[93,30,55]; speeds=[1,30,5] # answer=[2,1]\n",
        "\n",
        "from collections import defaultdict\n",
        "import numpy as np\n",
        "# np사용시 0.29~2.68ms 많이 느려진다. delete 과정이 사실상 복사의 개념이기 때문.\n",
        "def solution(progresses, speeds):\n",
        "    progresses = np.array(progresses)\n",
        "    speeds = np.array(speeds)\n",
        "    release = defaultdict(int)\n",
        "    day = 0\n",
        "    # print('1:',any(progresses < 100))\n",
        "    while any(progresses < 100):\n",
        "        day += 1\n",
        "        progresses = progresses + speeds\n",
        "        # print('day: {}, prog: {}, speeds: {}'.format(day, progresses, speeds))\n",
        "        while progresses[0] >= 100:\n",
        "            progresses = np.delete(progresses, 0)\n",
        "            speeds = np.delete(speeds, 0)\n",
        "            # print('--day: {}, prog: {}, speeds: {}'.format(day, progresses, speeds))\n",
        "            release[day] += 1\n",
        "            if len(progresses) == 0: break\n",
        "\n",
        "    return list(release.values())\n",
        "\n",
        "\n",
        "        \n",
        "solution(progresses, speeds)"
      ],
      "execution_count": 4,
      "outputs": [
        {
          "output_type": "stream",
          "text": [
            "1: True\n",
            "day: 1, prog: [94 60 60], speeds: [ 1 30  5]\n",
            "day: 2, prog: [95 90 65], speeds: [ 1 30  5]\n",
            "day: 3, prog: [ 96 120  70], speeds: [ 1 30  5]\n",
            "day: 4, prog: [ 97 150  75], speeds: [ 1 30  5]\n",
            "day: 5, prog: [ 98 180  80], speeds: [ 1 30  5]\n",
            "day: 6, prog: [ 99 210  85], speeds: [ 1 30  5]\n",
            "day: 7, prog: [100 240  90], speeds: [ 1 30  5]\n",
            "--day: 7, prog: [240  90], speeds: [30  5]\n",
            "--day: 7, prog: [90], speeds: [5]\n",
            "day: 8, prog: [95], speeds: [5]\n",
            "day: 9, prog: [100], speeds: [5]\n",
            "--day: 9, prog: [], speeds: []\n"
          ],
          "name": "stdout"
        },
        {
          "output_type": "execute_result",
          "data": {
            "text/plain": [
              "[2, 1]"
            ]
          },
          "metadata": {
            "tags": []
          },
          "execution_count": 4
        }
      ]
    },
    {
      "cell_type": "code",
      "metadata": {
        "id": "9ccFtmunZObK",
        "colab_type": "code",
        "colab": {}
      },
      "source": [
        ""
      ],
      "execution_count": 0,
      "outputs": []
    }
  ]
}