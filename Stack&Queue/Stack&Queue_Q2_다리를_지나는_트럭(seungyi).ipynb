{
  "nbformat": 4,
  "nbformat_minor": 0,
  "metadata": {
    "colab": {
      "name": "Stack&Queue_Q2_다리를_지나는_트럭(seungyi).ipynb",
      "provenance": [],
      "authorship_tag": "ABX9TyMI584fCbu6N13Orc7+ZC86",
      "include_colab_link": true
    },
    "kernelspec": {
      "name": "python3",
      "display_name": "Python 3"
    }
  },
  "cells": [
    {
      "cell_type": "markdown",
      "metadata": {
        "id": "view-in-github",
        "colab_type": "text"
      },
      "source": [
        "<a href=\"https://colab.research.google.com/github/nowhyun/programmers_coding_test/blob/master/Stack%26Queue/Stack%26Queue_Q2_%EB%8B%A4%EB%A6%AC%EB%A5%BC_%EC%A7%80%EB%82%98%EB%8A%94_%ED%8A%B8%EB%9F%AD(seungyi).ipynb\" target=\"_parent\"><img src=\"https://colab.research.google.com/assets/colab-badge.svg\" alt=\"Open In Colab\"/></a>"
      ]
    },
    {
      "cell_type": "code",
      "metadata": {
        "id": "T6fP3ptfhdZM",
        "colab_type": "code",
        "colab": {}
      },
      "source": [
        "def solution(bridge_length, weight, truck_weights):\n",
        "    b_in = [0]*bridge_length\n",
        "    time = 0\n",
        "    s = 0\n",
        "    while b_in:\n",
        "        time += 1\n",
        "        temp = b_in.pop(0)\n",
        "        if temp != 0:\n",
        "            s -= temp\n",
        "        if truck_weights:\n",
        "            if s + truck_weights[0] <= weight:\n",
        "                s += truck_weights[0]\n",
        "                b_in.append(truck_weights.pop(0))\n",
        "            else:\n",
        "                b_in.append(0)\n",
        "    answer = time\n",
        "    return answer"
      ],
      "execution_count": 0,
      "outputs": []
    }
  ]
}