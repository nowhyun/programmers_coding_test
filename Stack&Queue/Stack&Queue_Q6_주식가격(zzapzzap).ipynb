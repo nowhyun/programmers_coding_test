{
  "nbformat": 4,
  "nbformat_minor": 0,
  "metadata": {
    "colab": {
      "name": "Stack&Queue_Q6_주식가격(zzapzzap).ipynb",
      "provenance": [],
      "authorship_tag": "ABX9TyOh3AggRqhZ6j16scDkSdB4",
      "include_colab_link": true
    },
    "kernelspec": {
      "name": "python3",
      "display_name": "Python 3"
    }
  },
  "cells": [
    {
      "cell_type": "markdown",
      "metadata": {
        "id": "view-in-github",
        "colab_type": "text"
      },
      "source": [
        "<a href=\"https://colab.research.google.com/github/nowhyun/programmers_coding_test/blob/master/Stack%26Queue/Stack%26Queue_Q6_%EC%A3%BC%EC%8B%9D%EA%B0%80%EA%B2%A9(zzapzzap).ipynb\" target=\"_parent\"><img src=\"https://colab.research.google.com/assets/colab-badge.svg\" alt=\"Open In Colab\"/></a>"
      ]
    },
    {
      "cell_type": "code",
      "metadata": {
        "id": "DPIKTKZcx04N",
        "colab_type": "code",
        "colab": {}
      },
      "source": [
        "def solution(prices):\n",
        "    answer = [0] * len(prices)\n",
        "    for i in range(len(prices)-1):\n",
        "        for j in range(i, len(prices)-1):\n",
        "            if prices[i] >prices[j]:\n",
        "                break\n",
        "            else:\n",
        "                answer[i] +=1\n",
        "    return answer"
      ],
      "execution_count": 0,
      "outputs": []
    },
    {
      "cell_type": "code",
      "metadata": {
        "id": "hbxxcB9oOOyw",
        "colab_type": "code",
        "colab": {}
      },
      "source": [
        ""
      ],
      "execution_count": 0,
      "outputs": []
    }
  ]
}