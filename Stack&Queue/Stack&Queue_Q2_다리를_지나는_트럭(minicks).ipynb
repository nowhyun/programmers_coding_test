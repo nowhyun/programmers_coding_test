{
  "nbformat": 4,
  "nbformat_minor": 0,
  "metadata": {
    "colab": {
      "name": "Stack&Queue_Q2_다리를_지나는_트럭(minicks).ipynb",
      "provenance": [],
      "authorship_tag": "ABX9TyPbdPL4+AE/NGtqcSMm4Wif",
      "include_colab_link": true
    },
    "kernelspec": {
      "name": "python3",
      "display_name": "Python 3"
    }
  },
  "cells": [
    {
      "cell_type": "markdown",
      "metadata": {
        "id": "view-in-github",
        "colab_type": "text"
      },
      "source": [
        "<a href=\"https://colab.research.google.com/github/nowhyun/programmers_coding_test/blob/master/Stack%26Queue/Stack%26Queue_Q2_%EB%8B%A4%EB%A6%AC%EB%A5%BC_%EC%A7%80%EB%82%98%EB%8A%94_%ED%8A%B8%EB%9F%AD(minicks).ipynb\" target=\"_parent\"><img src=\"https://colab.research.google.com/assets/colab-badge.svg\" alt=\"Open In Colab\"/></a>"
      ]
    },
    {
      "cell_type": "code",
      "metadata": {
        "id": "kWaI_86QaDlM",
        "colab_type": "code",
        "colab": {}
      },
      "source": [
        "from collections import deque\n",
        "\n",
        "\n",
        "def solution(bridge_length, weight, truck_weights):\n",
        "    sec = 1  # 처음부터 트럭을 다리에 올린다.\n",
        "    s = truck_weights[0]  # 다리에 올라간 트럭의 총 무게\n",
        "    truck_weights = deque(truck_weights)  # deque 자료구조화\n",
        "    trucks_on_bridge = deque([[truck_weights[0], 1]])  # 다리에 올라간 트럭을 구분. (트럭 무게, 해당 트럭이 다리 위에 있는 시간)\n",
        "    truck_idx = 1  # 다음에 다리에 오를 트럭을 가리킴\n",
        "    while truck_weights:  # 올릴 트럭이 남아 있는 동안 반복\n",
        "        sec += 1  # 1초 증가\n",
        "        if truck_idx < len(truck_weights):  # 트럭을 이미 다 올려 트럭이 없으면 다리에 트럭 안올림\n",
        "            if s + truck_weights[truck_idx] <= weight:  # 지금 올려야하는 트럭과 다리 위 트럭 무게 총합이 weight 이하면\n",
        "                s += truck_weights[truck_idx]  # 트럭 올리기\n",
        "                trucks_on_bridge.append([truck_weights[truck_idx], 0])  # 무게, 초\n",
        "                truck_idx += 1  # 다음 트럭 가리킴\n",
        "        for truck in trucks_on_bridge:  # 다리 위에 있는 모든 트럭에 대해\n",
        "            truck[1] += 1  # 각 트럭이 다리 위에서 이동한 시간 1초 증가. 즉, 1칸 이동\n",
        "        if trucks_on_bridge and trucks_on_bridge[0][1] == bridge_length:  # 맨 끝에 있는 트럭이 다리를 다 지났다면\n",
        "            s -= trucks_on_bridge[0][0]  # 다리를 통과한 트럭 무게는 다리에 있는 트럭 무게 총합에서 빼기\n",
        "            trucks_on_bridge.popleft()  # 다리 위 트럭 빼기\n",
        "            truck_weights.popleft()  # 트럭 빼기\n",
        "            truck_idx -= 1  # 트럭이 빠졌으므로 인덱스를 -1만큼 옮겨 다음에 올릴 트럭 포인터 유지하기\n",
        "    sec += 1\n",
        "    return sec\n",
        "\n",
        "\n",
        "\n",
        "\n",
        "# def solution(bridge_length, weight, truck_weights):\n",
        "#     answer = 0\n",
        "#     bridge = [0] * bridge_length\n",
        "    \n",
        "#     while(truck_weights):\n",
        "#         answer += 1\n",
        "#         bridge.pop(0)\n",
        "#         if(sum(bridge) + truck_weights[0] <= weight):\n",
        "#             # bridge.append(0)\n",
        "#             bridge.append(truck_weights.pop(0))\n",
        "#         else:\n",
        "#             # bridge.append(truck_weights.pop(0))\n",
        "#             bridge.append(0)\n",
        "#     answer += bridge_length\n",
        "    \n",
        "#     return answer\n",
        "\n",
        "# from queue import Queue\n",
        "\n",
        "# def solution(bridge_length, weight, truck_weights):\n",
        "#     answer = 0\n",
        "#     br = Queue()\n",
        "#     for i in range(bridge_length):\n",
        "#         br.enqueue(0)\n",
        "#     while len(truck_weights) != 0:\n",
        "#         answer += 1\n",
        "#         if sum(bridge[1:]) + truck_weights[0] <= weight:\n",
        "#             br.equeue(truck_weights.pop(0))\n",
        "#             br.dequeue()\n",
        "#         else:\n",
        "#             br.equeue(0)\n",
        "#             br.dequeue()\n",
        "#     return answer + bridge_length"
      ],
      "execution_count": 0,
      "outputs": []
    }
  ]
}