{
  "nbformat": 4,
  "nbformat_minor": 0,
  "metadata": {
    "colab": {
      "name": "Stack&Queue_Q2_다리를_지나는_트럭(zzapzzap).ipynb",
      "provenance": [],
      "authorship_tag": "ABX9TyNdOFKUG4cO/yGbj++DxUwn",
      "include_colab_link": true
    },
    "kernelspec": {
      "name": "python3",
      "display_name": "Python 3"
    }
  },
  "cells": [
    {
      "cell_type": "markdown",
      "metadata": {
        "id": "view-in-github",
        "colab_type": "text"
      },
      "source": [
        "<a href=\"https://colab.research.google.com/github/nowhyun/programmers_coding_test/blob/master/Stack%26Queue_Q2_%EB%8B%A4%EB%A6%AC%EB%A5%BC_%EC%A7%80%EB%82%98%EB%8A%94_%ED%8A%B8%EB%9F%AD(zzapzzap).ipynb\" target=\"_parent\"><img src=\"https://colab.research.google.com/assets/colab-badge.svg\" alt=\"Open In Colab\"/></a>"
      ]
    },
    {
      "cell_type": "code",
      "metadata": {
        "id": "DGkhepkiNq_K",
        "colab_type": "code",
        "colab": {}
      },
      "source": [
        "from collections import deque\n",
        "\n",
        "def solution(bridge_length, weight, truck_weights):\n",
        "\n",
        "    cross_truck = deque([0]*bridge_length)\n",
        "    truck_weights = deque(truck_weights)\n",
        "    # initialize\n",
        "    answer = 0 # time\n",
        "    truck_sum = 0 # weight_sum\n",
        "\n",
        "    while truck_weights:   # wait 다 빠질 때 까지\n",
        "        in_truck = truck_weights.popleft()\n",
        "        out_truck = cross_truck.pop()\n",
        "        truck_sum -= out_truck\n",
        "        if truck_sum + in_truck <= weight:\n",
        "            cross_truck.appendleft(in_truck)\n",
        "            truck_sum += in_truck\n",
        "\n",
        "        else:\n",
        "            cross_truck.appendleft(0)\n",
        "            truck_weights.appendleft(in_truck) # 복원\n",
        "\n",
        "        answer +=1\n",
        "    answer+=(len(cross_truck))                # wait 다 뺐음으로, 나머지 계속 pop\n",
        "    return answer"
      ],
      "execution_count": 0,
      "outputs": []
    }
  ]
}
