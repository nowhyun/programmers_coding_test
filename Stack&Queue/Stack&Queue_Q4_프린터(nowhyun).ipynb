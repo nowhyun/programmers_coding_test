{
  "nbformat": 4,
  "nbformat_minor": 0,
  "metadata": {
    "colab": {
      "name": "Stack&Queue_Q4_프린터(nowhyun).ipynb",
      "provenance": [],
      "collapsed_sections": [],
      "authorship_tag": "ABX9TyOLX6c+sKkm2VHpZzB/W+7n",
      "include_colab_link": true
    },
    "kernelspec": {
      "name": "python3",
      "display_name": "Python 3"
    }
  },
  "cells": [
    {
      "cell_type": "markdown",
      "metadata": {
        "id": "view-in-github",
        "colab_type": "text"
      },
      "source": [
        "<a href=\"https://colab.research.google.com/github/nowhyun/programmers_coding_test/blob/master/Stack%26Queue/Stack%26Queue_Q4_%ED%94%84%EB%A6%B0%ED%84%B0(nowhyun).ipynb\" target=\"_parent\"><img src=\"https://colab.research.google.com/assets/colab-badge.svg\" alt=\"Open In Colab\"/></a>"
      ]
    },
    {
      "cell_type": "code",
      "metadata": {
        "id": "iJo3OpdyGRDN",
        "colab_type": "code",
        "colab": {
          "base_uri": "https://localhost:8080/",
          "height": 407
        },
        "outputId": "5af75436-b876-4abf-f6a6-e656f096cd06"
      },
      "source": [
        "priorities = [2,1,3,2]; location = 2 # answer = 1\n",
        "'''\n",
        "2 1 3 2 / 1 3 2 2 / 3 2 2 1 / 2 2 1 / 2 1 ...\n",
        "1. if queue[0] == max(queue): order_of_print.append(popleft())\n",
        "  2. else: queue.append(queue.popleft())\n",
        "'''\n",
        "priorities = [1,1,9,1,1,1]; location = 0 # answer = 5\n",
        "\n",
        "import numpy as np\n",
        "\n",
        "# numpy 사용. 0.14~5.45ms\n",
        "def solution(priorities, location):\n",
        "    priorities = np.array([(idx, prior) for idx,prior in enumerate(priorities)]) # 고유문서명, 우선순위 배열 생성\n",
        "    # print('priorities:',priorities)\n",
        "\n",
        "    target = priorities[location] # 출력 순서를 찾을 타겟 문서\n",
        "    # print('target:',target)\n",
        "    order_of_print = [] # 프린터 순서를 저장할 공간\n",
        "    # cnt = 0\n",
        "    # print('기존 oop:',order_of_print)\n",
        "    '''타겟이 priorities에서 사라질 때 까지 진행'''\n",
        "    while target in priorities:\n",
        "        # print(priorities[0,1], np.max(priorities[:,1]))\n",
        "        '''만약 priorities의 첫번째 우선순위가 가장 높다면'''\n",
        "        if priorities[0,1] == np.max(priorities[:,1]):\n",
        "            # print('oop 추가 원소:',priorities[0])\n",
        "            '''oop에 해당 문서를 추가하고'''\n",
        "            order_of_print.append(priorities[0])\n",
        "            '''priorities에서는 해당 문서를 제거'''\n",
        "            priorities = priorities[1:]\n",
        "            # cnt += 1\n",
        "        '''priorities의 첫번째 우선순위가 가장 높지 않다면 후순위로 이동'''\n",
        "        else:\n",
        "            priorities = np.concatenate((priorities[1:], priorities[0][np.newaxis,:]), axis=0)\n",
        "\n",
        "    # print(order_of_print); print()\n",
        "    '''oop 에서 target의 index 찾기. [x,y] == [x,y] 라는 비교식이 직접적으로 사용 불가능함'''\n",
        "    for idx, val in enumerate(order_of_print):\n",
        "        # print(val, target, sum(val == target))\n",
        "        if sum(val == target) == 2:\n",
        "            return idx+1\n",
        "        \n",
        "solution(priorities, location)"
      ],
      "execution_count": 105,
      "outputs": [
        {
          "output_type": "stream",
          "text": [
            "priorities: [[0 1]\n",
            " [1 1]\n",
            " [2 9]\n",
            " [3 1]\n",
            " [4 1]\n",
            " [5 1]]\n",
            "target: [0 1]\n",
            "기존 oop: []\n",
            "oop 추가 원소: [2 9]\n",
            "oop 추가 원소: [3 1]\n",
            "oop 추가 원소: [4 1]\n",
            "oop 추가 원소: [5 1]\n",
            "oop 추가 원소: [0 1]\n",
            "oop 추가 원소: [1 1]\n",
            "[array([2, 9]), array([3, 1]), array([4, 1]), array([5, 1]), array([0, 1]), array([1, 1])]\n",
            "\n",
            "[2 9] [0 1] 0\n",
            "[3 1] [0 1] 1\n",
            "[4 1] [0 1] 1\n",
            "[5 1] [0 1] 1\n",
            "[0 1] [0 1] 2\n"
          ],
          "name": "stdout"
        },
        {
          "output_type": "execute_result",
          "data": {
            "text/plain": [
              "5"
            ]
          },
          "metadata": {
            "tags": []
          },
          "execution_count": 105
        }
      ]
    },
    {
      "cell_type": "code",
      "metadata": {
        "id": "_YNKoT6dMlEr",
        "colab_type": "code",
        "colab": {
          "base_uri": "https://localhost:8080/",
          "height": 87
        },
        "outputId": "04a0e13c-d8ed-4574-af6e-e8ec037fa013"
      },
      "source": [
        "priorities = [2,1,3,2]; location = 2 # answer = 1\n",
        "'''\n",
        "2 1 3 2 / 1 3 2 2 / 3 2 2 1 / 2 2 1 / 2 1 ...\n",
        "1. if queue[0] == max(queue): order_of_print.append(popleft())\n",
        "  2. else: queue.append(queue.popleft())\n",
        "'''\n",
        "priorities = [1,1,9,1,1,1]; location = 0 # answer = 5\n",
        "\n",
        "from collections import deque\n",
        "\n",
        "# deque 사용. 0.04~3.21ms. np보다 빠르다\n",
        "def solution(priorities, location):\n",
        "    priorities = [(idx, prior) for idx,prior in enumerate(priorities)] # 고유문서명, 우선순위 리스트 생성\n",
        "    queue = deque(priorities) # deque 변환\n",
        "    # print('queue:', queue)\n",
        "\n",
        "    target = queue[location]\n",
        "    # print('target:', target)\n",
        "\n",
        "    order_of_print = []\n",
        "    '''타겟이 queue에서 사라질 때 까지 진행'''\n",
        "    while target in queue:\n",
        "        # queue의 첫번째 원소의 우선순위가 다른 모든 원소의 우선순위보다 높다면\n",
        "        if all([queue[0][1] >= elmt[1] for elmt in queue]):\n",
        "            # oop에 해당 원소 추가후 queue.popleft()\n",
        "            order_of_print.append(queue.popleft())\n",
        "        # 아니라면 queue 후순위로 이동\n",
        "        else:\n",
        "            queue.append(queue.popleft())\n",
        "    # print('queue:', queue)\n",
        "    # print('oop:', order_of_print)\n",
        "    return order_of_print.index(target)+1\n",
        "\n",
        "solution(priorities, location)"
      ],
      "execution_count": 130,
      "outputs": [
        {
          "output_type": "stream",
          "text": [
            "queue: deque([(0, 1), (1, 1), (2, 9), (3, 1), (4, 1), (5, 1)])\n",
            "target: (0, 1)\n",
            "oop: [(2, 9), (3, 1), (4, 1), (5, 1), (0, 1)]\n"
          ],
          "name": "stdout"
        },
        {
          "output_type": "execute_result",
          "data": {
            "text/plain": [
              "5"
            ]
          },
          "metadata": {
            "tags": []
          },
          "execution_count": 130
        }
      ]
    }
  ]
}