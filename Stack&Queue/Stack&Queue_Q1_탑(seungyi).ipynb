{
  "nbformat": 4,
  "nbformat_minor": 0,
  "metadata": {
    "colab": {
      "name": "Stack&Queue_Q1_탑(seungyi).ipynb",
      "provenance": [],
      "authorship_tag": "ABX9TyNPQoHgEMN6BTLLdWhRLfy0",
      "include_colab_link": true
    },
    "kernelspec": {
      "name": "python3",
      "display_name": "Python 3"
    }
  },
  "cells": [
    {
      "cell_type": "markdown",
      "metadata": {
        "id": "view-in-github",
        "colab_type": "text"
      },
      "source": [
        "<a href=\"https://colab.research.google.com/github/nowhyun/programmers_coding_test/blob/master/Stack%26Queue/Stack%26Queue_Q1_%ED%83%91(seungyi).ipynb\" target=\"_parent\"><img src=\"https://colab.research.google.com/assets/colab-badge.svg\" alt=\"Open In Colab\"/></a>"
      ]
    },
    {
      "cell_type": "code",
      "metadata": {
        "id": "7eF99_t8gsIr",
        "colab_type": "code",
        "colab": {}
      },
      "source": [
        "def solution(heights):\n",
        "    answer = [0] * len(heights)\n",
        "    for i in range(len(heights)-1,0,-1):\n",
        "        for j in range(i-1,-1,-1):\n",
        "            if heights[i] < heights[j]:\n",
        "                answer[i] = j+1\n",
        "                break\n",
        "    return answer"
      ],
      "execution_count": 0,
      "outputs": []
    }
  ]
}