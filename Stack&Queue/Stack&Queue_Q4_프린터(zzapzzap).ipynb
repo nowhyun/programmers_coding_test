{
  "nbformat": 4,
  "nbformat_minor": 0,
  "metadata": {
    "colab": {
      "name": "Stack&Queue_Q4_프린터(zzapzzap).ipynb",
      "provenance": [],
      "authorship_tag": "ABX9TyP+xeddvxgYxGZ2zw/bVIlY",
      "include_colab_link": true
    },
    "kernelspec": {
      "name": "python3",
      "display_name": "Python 3"
    }
  },
  "cells": [
    {
      "cell_type": "markdown",
      "metadata": {
        "id": "view-in-github",
        "colab_type": "text"
      },
      "source": [
        "<a href=\"https://colab.research.google.com/github/nowhyun/programmers_coding_test/blob/master/Stack%26Queue/Stack%26Queue_Q4_%ED%94%84%EB%A6%B0%ED%84%B0(zzapzzap).ipynb\" target=\"_parent\"><img src=\"https://colab.research.google.com/assets/colab-badge.svg\" alt=\"Open In Colab\"/></a>"
      ]
    },
    {
      "cell_type": "code",
      "metadata": {
        "id": "CTauEqz7Uk7-",
        "colab_type": "code",
        "outputId": "eb991de1-08b5-4825-c1ec-cba14bf401a6",
        "colab": {
          "base_uri": "https://localhost:8080/",
          "height": 70
        }
      },
      "source": [
        "from collections import deque\n",
        "def solution(priorities, location):\n",
        "    done = False\n",
        "    answer = 0\n",
        "    priorities = deque(priorities)\n",
        "    priorities[location] = float(priorities[location])\n",
        "    while not done:\n",
        "        if priorities[0] == max(priorities):\n",
        "            k = priorities.popleft()\n",
        "            answer +=1\n",
        "            if type(k) == float:\n",
        "                done = True\n",
        "        else:\n",
        "            priorities.append(priorities.popleft())\n",
        "        \n",
        "    return answer\n",
        "\n",
        "print(solution([2,1,3,2], 2))\n",
        "print(solution([3,3,4,2], 3))\n",
        "solution([1,1,9,1,1,1], 0)"
      ],
      "execution_count": 7,
      "outputs": [
        {
          "output_type": "stream",
          "text": [
            "1\n",
            "4\n"
          ],
          "name": "stdout"
        },
        {
          "output_type": "execute_result",
          "data": {
            "text/plain": [
              "5"
            ]
          },
          "metadata": {
            "tags": []
          },
          "execution_count": 7
        }
      ]
    },
    {
      "cell_type": "code",
      "metadata": {
        "id": "ld8E52KeL9wb",
        "colab_type": "code",
        "colab": {
          "base_uri": "https://localhost:8080/",
          "height": 34
        },
        "outputId": "5746fef6-fd8c-4c73-c6ec-04ac02591054"
      },
      "source": [
        "print(float(3)==3)"
      ],
      "execution_count": 6,
      "outputs": [
        {
          "output_type": "stream",
          "text": [
            "True\n"
          ],
          "name": "stdout"
        }
      ]
    }
  ]
}