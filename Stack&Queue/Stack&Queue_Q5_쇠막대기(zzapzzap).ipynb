{
  "nbformat": 4,
  "nbformat_minor": 0,
  "metadata": {
    "colab": {
      "name": "Stack&Queue_Q5_쇠막대기(zzapzzap).ipynb.ipynb",
      "provenance": [],
      "authorship_tag": "ABX9TyOBNAu1GZ6GbC6aDzvL9UaE",
      "include_colab_link": true
    },
    "kernelspec": {
      "name": "python3",
      "display_name": "Python 3"
    }
  },
  "cells": [
    {
      "cell_type": "markdown",
      "metadata": {
        "id": "view-in-github",
        "colab_type": "text"
      },
      "source": [
        "<a href=\"https://colab.research.google.com/github/nowhyun/programmers_coding_test/blob/master/Stack%26Queue/Stack%26Queue_Q5_%EC%87%A0%EB%A7%89%EB%8C%80%EA%B8%B0(zzapzzap).ipynb\" target=\"_parent\"><img src=\"https://colab.research.google.com/assets/colab-badge.svg\" alt=\"Open In Colab\"/></a>"
      ]
    },
    {
      "cell_type": "code",
      "metadata": {
        "id": "OD6cRZ2j_OJP",
        "colab_type": "code",
        "outputId": "066f9362-d896-4b3f-d3f6-e76702a46bc7",
        "colab": {
          "base_uri": "https://localhost:8080/",
          "height": 52
        }
      },
      "source": [
        "from collections import deque\n",
        "def solution(arrangement):\n",
        "    arrangement = deque(arrangement.replace(\"()\",\"/\"))\n",
        "    print(arrangement)\n",
        "    answer = 0\n",
        "    stack_count = 0\n",
        "\n",
        "    while arrangement:\n",
        "        k = arrangement.popleft()\n",
        "        if k == '(':\n",
        "            stack_count += 1\n",
        "        elif k == ')':\n",
        "            answer += 1\n",
        "            stack_count -= 1\n",
        "        else:\n",
        "            if stack_count:\n",
        "                answer += stack_count\n",
        "        \n",
        "    return answer\n",
        "\n",
        "solution(\"()(((()())(())()))(())\")"
      ],
      "execution_count": 9,
      "outputs": [
        {
          "output_type": "stream",
          "text": [
            "deque(['/', '(', '(', '(', '/', '/', ')', '(', '/', ')', '/', ')', ')', '(', '/', ')'])\n"
          ],
          "name": "stdout"
        },
        {
          "output_type": "execute_result",
          "data": {
            "text/plain": [
              "17"
            ]
          },
          "metadata": {
            "tags": []
          },
          "execution_count": 9
        }
      ]
    }
  ]
}