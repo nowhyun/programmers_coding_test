{
  "nbformat": 4,
  "nbformat_minor": 0,
  "metadata": {
    "colab": {
      "name": "Stack&Queue_Q2_다리를 지나는 트럭(nowhyun).ipynb",
      "provenance": [],
      "collapsed_sections": [],
      "authorship_tag": "ABX9TyN+ZFwHHRcPx7hdg9B7E+U6",
      "include_colab_link": true
    },
    "kernelspec": {
      "name": "python3",
      "display_name": "Python 3"
    }
  },
  "cells": [
    {
      "cell_type": "markdown",
      "metadata": {
        "id": "view-in-github",
        "colab_type": "text"
      },
      "source": [
        "<a href=\"https://colab.research.google.com/github/nowhyun/programmers_coding_test/blob/master/Stack%26Queue/Stack%26Queue_Q2_%EB%8B%A4%EB%A6%AC%EB%A5%BC_%EC%A7%80%EB%82%98%EB%8A%94_%ED%8A%B8%EB%9F%AD(nowhyun).ipynb\" target=\"_parent\"><img src=\"https://colab.research.google.com/assets/colab-badge.svg\" alt=\"Open In Colab\"/></a>"
      ]
    },
    {
      "cell_type": "code",
      "metadata": {
        "id": "ngwlg_s8W7LT",
        "colab_type": "code",
        "colab": {}
      },
      "source": [
        "from collections import deque\n",
        "def solution(bridge_length, weight, truck_weights):\n",
        "    time_counter=0\n",
        "    trucks_on_bridge=deque([0]*bridge_length) # 0 0\n",
        "    truck_weights=deque(truck_weights)\n",
        "\n",
        "    # 7 4 5 6 기준\n",
        "    while trucks_on_bridge:\n",
        "        time_counter+=1\n",
        "        # print('시행')\n",
        "        trucks_on_bridge.popleft() # 0 / 7 / 0 / 4 / 5 / 0\n",
        "\n",
        "        if truck_weights:\n",
        "            if sum(trucks_on_bridge) + truck_weights[0] <= weight:\n",
        "                trucks_on_bridge.append(truck_weights.popleft()) # 0 7 / 0 4 / 4 5 / 0 6\n",
        "            else:\n",
        "                trucks_on_bridge.append(0) # 7 0 / 5 0\n",
        "\n",
        "    return time_counter\n",
        "\n",
        "def solution(bridge_length, weight, truck_weights):\n",
        "    time_counter = 0\n",
        "    trucks_on_bridge = [] #공란 자체가 메모리에 악영향일 수 있다.\n",
        "    # 7 4 5 6 기준\n",
        "    sum_ = 0\n",
        "    for truck in truck_weights: \n",
        "        # truck = 7 / 4 / 5 / 6\n",
        "        while truck != 0:\n",
        "            if len(trucks_on_bridge) == bridge_length:\n",
        "                sum_ -= trucks_on_bridge.pop(0) # tob = [0,0] / [4,0] / [5,4] / [0,5] / [0,0]\n",
        "            if sum_ + truck <= weight:\n",
        "                trucks_on_bridge.append(truck) # tob = [7](1) / [4,0](3) / [5,4](4) / [6,0](6)\n",
        "                sum_ += truck\n",
        "                print('무게제한안걸림', trucks_on_bridge)\n",
        "                truck = 0 # while문 탈출\n",
        "                time_counter += 1\n",
        "            else:\n",
        "                trucks_on_bridge.append(0) # tob = [0,7](2) / [0,5](5)\n",
        "                print('무게제한걸림', trucks_on_bridge)\n",
        "                time_counter += 1\n",
        "    time_counter += bridge_length\n",
        "\n",
        "    return time_counter"
      ],
      "execution_count": 0,
      "outputs": []
    }
  ]
}