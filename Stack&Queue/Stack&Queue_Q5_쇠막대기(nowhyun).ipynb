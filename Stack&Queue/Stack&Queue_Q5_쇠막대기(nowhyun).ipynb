{
  "nbformat": 4,
  "nbformat_minor": 0,
  "metadata": {
    "colab": {
      "name": "Stack&Queue_Q5_쇠막대기(nowhyun).ipynb",
      "provenance": [],
      "authorship_tag": "ABX9TyOi223DRadH8VqARYTKxWgO",
      "include_colab_link": true
    },
    "kernelspec": {
      "name": "python3",
      "display_name": "Python 3"
    }
  },
  "cells": [
    {
      "cell_type": "markdown",
      "metadata": {
        "id": "view-in-github",
        "colab_type": "text"
      },
      "source": [
        "<a href=\"https://colab.research.google.com/github/nowhyun/programmers_coding_test/blob/master/Stack%26Queue/Stack%26Queue_Q5_%EC%87%A0%EB%A7%89%EB%8C%80%EA%B8%B0(nowhyun).ipynb\" target=\"_parent\"><img src=\"https://colab.research.google.com/assets/colab-badge.svg\" alt=\"Open In Colab\"/></a>"
      ]
    },
    {
      "cell_type": "code",
      "metadata": {
        "id": "bPpm2EqCQWS9",
        "colab_type": "code",
        "colab": {
          "base_uri": "https://localhost:8080/",
          "height": 567
        },
        "outputId": "1e229319-8941-4b09-8711-44b96dfc7d6a"
      },
      "source": [
        "agment=\"()(((()())(())()))(())\" # answer=17\n",
        "agment=\"()((()())())\" # answer=7\n",
        "'''\n",
        "\"()((()())())\" 와 같은 예제를 보자, answer = 0\n",
        "   ((()())())\" 초기 레이저()는 +1 -1 으로 0\n",
        "       ())())\" 다음 레이저()는 2개의 잘린 막대기 생성, 이 때 2 = (의 개수, answer += 2\n",
        "         )())\" 다음 레이저()도 여전히 2개의 잘린 막대기 생성, answer += 2               \n",
        "            )\" 다음 레이저()도 여전히 2개의 잘린 막대기 생성, answer += 2               \n",
        "             \" 이후 마지막 꼬다리 1개의 잘린 막대기 생성, answer += 1\n",
        "deque를 쓰지 않고 rightbracket = +1, leftbracket = -1 처리를 하는 것으로 충분.\n",
        "'''\n",
        "def solution(agment):\n",
        "    answer = 0\n",
        "    calOfBckt = 0\n",
        "    toggle = bool\n",
        "    # 모든 괄호 순회\n",
        "    for bracket in agment:\n",
        "        # ( 라면, 계산값+=1 및 다음에 ) 발견 시 절단 시작\n",
        "        if bracket == '(':\n",
        "            print('1. bracket == ('); print()\n",
        "            calOfBckt += 1\n",
        "            toggle = True\n",
        "        # ) 라면, 계산값-=1\n",
        "        elif bracket == ')':\n",
        "            print('1. bracket == )')\n",
        "            calOfBckt -= 1\n",
        "            # 절단 허가 났을 시 절단\n",
        "            if toggle == True:\n",
        "                answer += calOfBckt\n",
        "                print('2. calOfBckt:', calOfBckt); print()\n",
        "                toggle = False\n",
        "            # 절단 불허일시, 꼬다리로 계산값+=1\n",
        "            else:\n",
        "                answer += 1\n",
        "                print('3. calOfBckt:', 1); print()\n",
        "    \n",
        "    return answer\n",
        "\n",
        "\n",
        "solution(agment)"
      ],
      "execution_count": 10,
      "outputs": [
        {
          "output_type": "stream",
          "text": [
            "1. bracket == (\n",
            "\n",
            "1. bracket == )\n",
            "2. calOfBckt: 0\n",
            "\n",
            "1. bracket == (\n",
            "\n",
            "1. bracket == (\n",
            "\n",
            "1. bracket == (\n",
            "\n",
            "1. bracket == )\n",
            "2. calOfBckt: 2\n",
            "\n",
            "1. bracket == (\n",
            "\n",
            "1. bracket == )\n",
            "2. calOfBckt: 2\n",
            "\n",
            "1. bracket == )\n",
            "3. calOfBckt: 1\n",
            "\n",
            "1. bracket == (\n",
            "\n",
            "1. bracket == )\n",
            "2. calOfBckt: 1\n",
            "\n",
            "1. bracket == )\n",
            "3. calOfBckt: 1\n",
            "\n"
          ],
          "name": "stdout"
        },
        {
          "output_type": "execute_result",
          "data": {
            "text/plain": [
              "7"
            ]
          },
          "metadata": {
            "tags": []
          },
          "execution_count": 10
        }
      ]
    },
    {
      "cell_type": "code",
      "metadata": {
        "id": "_8iHQID1ehTs",
        "colab_type": "code",
        "colab": {}
      },
      "source": [
        "'''\n",
        "테스트 1 〉\t통과 (7.64ms, 10.7MB)\n",
        "테스트 2 〉\t통과 (0.06ms, 10.8MB)\n",
        "테스트 3 〉\t통과 (7.24ms, 10.9MB)\n",
        "테스트 4 〉\t통과 (0.34ms, 10.7MB)\n",
        "테스트 5 〉\t통과 (0.85ms, 10.7MB)\n",
        "테스트 6 〉\t통과 (0.49ms, 10.7MB)\n",
        "테스트 7 〉\t통과 (6.96ms, 10.8MB)\n",
        "테스트 8 〉\t통과 (4.58ms, 10.8MB)\n",
        "테스트 9 〉\t통과 (5.01ms, 10.8MB)\n",
        "테스트 10 〉\t통과 (5.04ms, 10.8MB)\n",
        "테스트 11 〉\t통과 (3.80ms, 10.8MB)\n",
        "테스트 12 〉\t통과 (3.76ms, 10.8MB)\n",
        "테스트 13 〉\t통과 (4.03ms, 10.9MB)\n",
        "테스트 14 〉\t통과 (6.13ms, 10.7MB)\n",
        "테스트 15 〉\t통과 (6.55ms, 10.8MB)\n",
        "테스트 16 〉\t통과 (6.41ms, 10.7MB)\n",
        "테스트 17 〉\t통과 (7.46ms, 10.8MB)\n",
        "테스트 18 〉\t통과 (7.59ms, 10.9MB)\n",
        "테스트 19 〉\t통과 (7.41ms, 10.8MB)\n",
        "테스트 20 〉\t통과 (7.17ms, 10.8MB)\n",
        "'''"
      ],
      "execution_count": 0,
      "outputs": []
    }
  ]
}