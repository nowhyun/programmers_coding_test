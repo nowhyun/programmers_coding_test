{
  "nbformat": 4,
  "nbformat_minor": 0,
  "metadata": {
    "colab": {
      "name": "Stack&Queue_Q1_탑(zzapzzap).ipynb.ipynb",
      "provenance": [],
      "authorship_tag": "ABX9TyO1aI3UbTu8nWTODMLcKHMX",
      "include_colab_link": true
    },
    "kernelspec": {
      "name": "python3",
      "display_name": "Python 3"
    }
  },
  "cells": [
    {
      "cell_type": "markdown",
      "metadata": {
        "id": "view-in-github",
        "colab_type": "text"
      },
      "source": [
        "<a href=\"https://colab.research.google.com/github/nowhyun/programmers_coding_test/blob/master/Stack%26Queue_Q1_%ED%83%91(zzapzzap)_ipynb.ipynb\" target=\"_parent\"><img src=\"https://colab.research.google.com/assets/colab-badge.svg\" alt=\"Open In Colab\"/></a>"
      ]
    },
    {
      "cell_type": "code",
      "metadata": {
        "id": "k13YUa9lNEyh",
        "colab_type": "code",
        "colab": {}
      },
      "source": [
        "def solution(heights):\n",
        "    answer = []\n",
        "    for i in range(len(heights)):\n",
        "        for j in range(i, -1, -1):\n",
        "            if heights[i] < heights[j]:\n",
        "                answer.append(j+1)\n",
        "                break\n",
        "            if j == 0:\n",
        "                answer.append(0)\n",
        "\n",
        "    return answer"
      ],
      "execution_count": 0,
      "outputs": []
    }
  ]
}