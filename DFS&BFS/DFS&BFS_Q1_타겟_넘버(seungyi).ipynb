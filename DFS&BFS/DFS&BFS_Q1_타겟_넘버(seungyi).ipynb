{
  "nbformat": 4,
  "nbformat_minor": 0,
  "metadata": {
    "colab": {
      "name": "DFS&BFS_Q1_.ipynb",
      "provenance": [],
      "authorship_tag": "ABX9TyNAjKkXI64L5vjXpHwyh4WW",
      "include_colab_link": true
    },
    "kernelspec": {
      "name": "python3",
      "display_name": "Python 3"
    }
  },
  "cells": [
    {
      "cell_type": "markdown",
      "metadata": {
        "id": "view-in-github",
        "colab_type": "text"
      },
      "source": [
        "<a href=\"https://colab.research.google.com/github/nowhyun/programmers_coding_test/blob/master/DFS%26BFS/DFS%26BFS_Q1_%ED%83%80%EA%B2%9F_%EB%84%98%EB%B2%84(seungyi).ipynb\" target=\"_parent\"><img src=\"https://colab.research.google.com/assets/colab-badge.svg\" alt=\"Open In Colab\"/></a>"
      ]
    },
    {
      "cell_type": "code",
      "metadata": {
        "id": "oJB8IeT9_YUm",
        "colab_type": "code",
        "colab": {}
      },
      "source": [
        "\n",
        "def solution(numbers, target):\n",
        "    answer_list=[0]\n",
        "    for i in numbers:\n",
        "        temp_list=[]\n",
        "        for j in answer_list:\n",
        "            temp_list.append(j+i)\n",
        "            temp_list.append(j-i)\n",
        "        answer_list=temp_list\n",
        "    answer = answer_list.count(target)\n",
        "    return answer"
      ],
      "execution_count": 0,
      "outputs": []
    }
  ]
}