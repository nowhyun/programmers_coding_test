{
  "nbformat": 4,
  "nbformat_minor": 0,
  "metadata": {
    "colab": {
      "name": "DFS&BFS_Q2_네트워크(seungyi).ipynb",
      "provenance": [],
      "authorship_tag": "ABX9TyPcB394rOOFwDgWdv9odcVd",
      "include_colab_link": true
    },
    "kernelspec": {
      "name": "python3",
      "display_name": "Python 3"
    }
  },
  "cells": [
    {
      "cell_type": "markdown",
      "metadata": {
        "id": "view-in-github",
        "colab_type": "text"
      },
      "source": [
        "<a href=\"https://colab.research.google.com/github/nowhyun/programmers_coding_test/blob/master/DFS%26BFS/DFS%26BFS_Q2_%EB%84%A4%ED%8A%B8%EC%9B%8C%ED%81%AC(seungyi).ipynb\" target=\"_parent\"><img src=\"https://colab.research.google.com/assets/colab-badge.svg\" alt=\"Open In Colab\"/></a>"
      ]
    },
    {
      "cell_type": "code",
      "metadata": {
        "id": "AKE1YhXJ5Elg",
        "colab_type": "code",
        "colab": {}
      },
      "source": [
        "from collections import defaultdict\n",
        "import itertools\n",
        "\n",
        "def solution(n, computers):\n",
        "    edge = defaultdict(set)\n",
        "    remove_ = []\n",
        "    graph = []\n",
        "\n",
        "    # index들을 각각의 0번부터 n-1번 노드로 생각하고 \n",
        "    # 연결되어있는 edge 구하기 \n",
        "\n",
        "    for idx, i in enumerate(computers):\n",
        "        for idx2, j in enumerate(i):\n",
        "            if j == 1 :\n",
        "                edge[idx].add(idx2)\n",
        "                \n",
        "\n",
        "    # edge들 끼리 겹치는 점이 있다면, 다같이 연결된 것으로 보고 union 시킴\n",
        "    # graph에는 연결된 서브그래프 덩어리들만 남게됨 \n",
        "\n",
        "    for i in edge.values():\n",
        "        for j in edge.values():\n",
        "            if len(i.intersection(j)) != 0:\n",
        "                i= i.union(j)\n",
        "        if i not in graph:\n",
        "            graph.append(i)\n",
        "\n",
        "\n",
        "    # 하지만, graph에 서로 상위,하위 부분 집합 관계인 서브그래프들이 남아 있어 제거해야함 \n",
        "\n",
        "    remove_ = list(itertools.combinations(graph, 2))\n",
        "\n",
        "    for i, j in remove_:\n",
        "        try:\n",
        "            if i >= j:\n",
        "                graph.remove(j)\n",
        "            elif i < j:\n",
        "                graph.remove(i)\n",
        "        except:\n",
        "            continue\n",
        "\n",
        "\n",
        "    answer = len(graph)\n",
        "    return answer"
      ],
      "execution_count": 0,
      "outputs": []
    }
  ]
}