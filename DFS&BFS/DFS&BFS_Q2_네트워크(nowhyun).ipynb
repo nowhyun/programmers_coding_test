{
  "nbformat": 4,
  "nbformat_minor": 0,
  "metadata": {
    "colab": {
      "name": "DFS&BFS_Q2_네트워크(nowhyun).ipynb",
      "provenance": [],
      "authorship_tag": "ABX9TyNr/O6g17O/8ila8//zatt1",
      "include_colab_link": true
    },
    "kernelspec": {
      "name": "python3",
      "display_name": "Python 3"
    }
  },
  "cells": [
    {
      "cell_type": "markdown",
      "metadata": {
        "id": "view-in-github",
        "colab_type": "text"
      },
      "source": [
        "<a href=\"https://colab.research.google.com/github/nowhyun/programmers_coding_test/blob/master/DFS%26BFS/DFS%26BFS_Q2_%EB%84%A4%ED%8A%B8%EC%9B%8C%ED%81%AC(nowhyun).ipynb\" target=\"_parent\"><img src=\"https://colab.research.google.com/assets/colab-badge.svg\" alt=\"Open In Colab\"/></a>"
      ]
    },
    {
      "cell_type": "code",
      "metadata": {
        "id": "XxkalRAdJVI_",
        "colab_type": "code",
        "colab": {
          "base_uri": "https://localhost:8080/",
          "height": 407
        },
        "outputId": "390f7f4a-04ca-4811-d155-3845166c0d2b"
      },
      "source": [
        "n=3; computers=[[1, 1, 0], [1, 1, 0], [0, 0, 1]]\t# answer=2\n",
        "# n=3; computers=[[1, 1, 0], [1, 1, 1], [0, 1, 1]]\t# answer=1\n",
        "n=5; computers=[[1,1,0,0,0], [1,1,0,0,0], [0,0,1,1,0], [0,0,1,1,0], [0,0,0,0,1]] # answer=3\n",
        "import numpy as np\n",
        "from collections import defaultdict\n",
        "\n",
        "'''\n",
        "사실상 분할된 path의 유니크한 개수를 세리는 문제\n",
        "upper triangular matrix를 보고 노드간의 연결을 defaultdict(list)에 표현하고\n",
        "dfs를 통해 패스를 구성한 뒤\n",
        "유일한 path들의 개수를 계산\n",
        "'''\n",
        "\n",
        "def solution(n, computers):\n",
        "    graph = defaultdict(list)\n",
        "    for Node in range(n):\n",
        "        graph[Node]\n",
        "    print('init graph:',graph); print() \n",
        "\n",
        "    computers = np.array(computers)\n",
        "    for row in range(computers.shape[0]):\n",
        "        for col in range(row+1, computers.shape[1]):\n",
        "            print('row:{}, col:{}'.format(row,col))\n",
        "            if computers[row,col] == 1:\n",
        "                graph[row].append(col)\n",
        "                graph[col].append(row)\n",
        "                print('graph:', graph)\n",
        "\n",
        "    print()\n",
        "    print('final graph:',graph); print()\n",
        "\n",
        "    def dfs(graph, startNode):\n",
        "        visited = []\n",
        "        stack = [startNode]\n",
        "        # graph를 보고 노드의 다리를 건너가며 패스를 구성\n",
        "        while stack:\n",
        "            currNode = stack.pop()\n",
        "            if currNode not in visited:\n",
        "                visited.append(currNode)\n",
        "                stack.extend(graph[currNode])\n",
        "\n",
        "        return visited\n",
        "\n",
        "    pathList = [dfs(graph, Node) for Node in graph.keys()]\n",
        "    print('pathList:',pathList)\n",
        "    \n",
        "    sorted_pathList = [sorted(path, reverse=True) for path in pathList]\n",
        "    print('sorted_pathList:',sorted_pathList)\n",
        "    \n",
        "    pathSet = set()\n",
        "    for path in sorted_pathList:\n",
        "        unique_path = \"\"\n",
        "        for Node in path:\n",
        "            unique_path += str(Node)\n",
        "        pathSet.add(unique_path)\n",
        "    print('pathSet:',pathSet); print()\n",
        "\n",
        "    return len(pathSet)\n",
        "    \n",
        "\n",
        "solution(n, computers)"
      ],
      "execution_count": 117,
      "outputs": [
        {
          "output_type": "stream",
          "text": [
            "init graph: defaultdict(<class 'list'>, {0: [], 1: [], 2: [], 3: [], 4: []})\n",
            "\n",
            "row:0, col:1\n",
            "graph: defaultdict(<class 'list'>, {0: [1], 1: [0], 2: [], 3: [], 4: []})\n",
            "row:0, col:2\n",
            "row:0, col:3\n",
            "row:0, col:4\n",
            "row:1, col:2\n",
            "row:1, col:3\n",
            "row:1, col:4\n",
            "row:2, col:3\n",
            "graph: defaultdict(<class 'list'>, {0: [1], 1: [0], 2: [3], 3: [2], 4: []})\n",
            "row:2, col:4\n",
            "row:3, col:4\n",
            "\n",
            "final graph: defaultdict(<class 'list'>, {0: [1], 1: [0], 2: [3], 3: [2], 4: []})\n",
            "\n",
            "pathList: [[0, 1], [1, 0], [2, 3], [3, 2], [4]]\n",
            "sorted_pathList: [[1, 0], [1, 0], [3, 2], [3, 2], [4]]\n",
            "pathSet: {'32', '4', '10'}\n",
            "\n"
          ],
          "name": "stdout"
        },
        {
          "output_type": "execute_result",
          "data": {
            "text/plain": [
              "3"
            ]
          },
          "metadata": {
            "tags": []
          },
          "execution_count": 117
        }
      ]
    },
    {
      "cell_type": "code",
      "metadata": {
        "id": "YoMdT-o68e1r",
        "colab_type": "code",
        "colab": {}
      },
      "source": [
        "'''\n",
        "#결과\n",
        "테스트 1 〉\t통과 (0.11ms, 28.1MB)\n",
        "테스트 2 〉\t통과 (0.10ms, 27.8MB)\n",
        "테스트 3 〉\t통과 (0.47ms, 28.2MB)\n",
        "테스트 4 〉\t통과 (0.43ms, 28.2MB)\n",
        "테스트 5 〉\t통과 (0.07ms, 28.2MB)\n",
        "테스트 6 〉\t통과 (5.41ms, 28.5MB)\n",
        "테스트 7 〉\t통과 (0.13ms, 27.8MB)\n",
        "테스트 8 〉\t통과 (2.48ms, 28.5MB)\n",
        "테스트 9 〉\t통과 (1.10ms, 28.3MB)\n",
        "테스트 10 〉\t통과 (1.38ms, 28.3MB)\n",
        "테스트 11 〉\t통과 (37.51ms, 28.8MB)\n",
        "테스트 12 〉\t통과 (22.73ms, 28.8MB)\n",
        "테스트 13 〉\t통과 (6.19ms, 28.1MB)\n",
        "'''     "
      ],
      "execution_count": 0,
      "outputs": []
    }
  ]
}