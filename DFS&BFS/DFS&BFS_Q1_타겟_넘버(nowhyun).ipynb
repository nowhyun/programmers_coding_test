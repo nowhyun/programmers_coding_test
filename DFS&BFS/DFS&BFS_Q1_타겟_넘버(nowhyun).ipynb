{
  "nbformat": 4,
  "nbformat_minor": 0,
  "metadata": {
    "colab": {
      "name": "DFS&BFS_Q1_타겟 넘버(nowhyun).ipynb",
      "provenance": [],
      "collapsed_sections": [],
      "authorship_tag": "ABX9TyOmpGz8XX/bWDcOmSZH3vzg",
      "include_colab_link": true
    },
    "kernelspec": {
      "name": "python3",
      "display_name": "Python 3"
    }
  },
  "cells": [
    {
      "cell_type": "markdown",
      "metadata": {
        "id": "view-in-github",
        "colab_type": "text"
      },
      "source": [
        "<a href=\"https://colab.research.google.com/github/nowhyun/programmers_coding_test/blob/master/DFS%26BFS/DFS%26BFS_Q1_%ED%83%80%EA%B2%9F_%EB%84%98%EB%B2%84(nowhyun).ipynb\" target=\"_parent\"><img src=\"https://colab.research.google.com/assets/colab-badge.svg\" alt=\"Open In Colab\"/></a>"
      ]
    },
    {
      "cell_type": "code",
      "metadata": {
        "id": "Kbq4X3pCRn9L",
        "colab_type": "code",
        "outputId": "b88a3a49-7366-49cb-ce47-27e02296146c",
        "colab": {
          "base_uri": "https://localhost:8080/",
          "height": 1000
        }
      },
      "source": [
        "numbers = [1,1,1,1,1]; target = 3 # answer = 5 // sum(numbers) -2 = 3 이런접근? / 2라는 숫자를 상쇄할 세트를 찾는.. +1 -1 / +1 +1 +1\n",
        "# numbers = [1,2,3,4,5]; target = 3 \n",
        "'''\n",
        "그냥.. +1 +1 +1 +1 +1 / +1 +1 +1 +1 -1 / +1 +1 +1 -1 +1 / +1 +1 +1 -1 -1 ... 다 만들어버려..\n",
        "'''\n",
        "\n",
        "answer = 0\n",
        "def solution(numbers, target):\n",
        "\n",
        "    def gen_list(numbers, target, depth):\n",
        "        '''\n",
        "        #INPUT.\n",
        "          1. numbers: list type의 숫자들\n",
        "          2. target: int type의 숫자\n",
        "          3. depth: 깊이 우선 탐색을 위한 현재 depth, int type\n",
        "        #OUTPUT.\n",
        "          1. answer: 성공한 트리의 가짓 수\n",
        "        '''\n",
        "        global answer # 전역변수로써 answer 사용\n",
        "        max_depth = len(numbers)\n",
        "        if depth < max_depth:\n",
        "            global numbers_with_op\n",
        "            numbers_with_op = numbers.copy()\n",
        "            # 해당 depth의 숫자n을 +n , -n 상황으로 분기시켜 나간다\n",
        "            numbers_with_op[depth] = numbers[depth]*1\n",
        "            print('현재 {}층, numbers_with_op: {}'.format(depth, numbers_with_op))\n",
        "            gen_list(numbers_with_op, target, depth +1)\n",
        "\n",
        "            numbers_with_op[depth] = numbers[depth]*-1\n",
        "            print('현재 {}층, numbers_with_op: {}'.format(depth, numbers_with_op))\n",
        "            gen_list(numbers_with_op, target, depth +1)\n",
        "\n",
        "        # depth >= max_depth 일때, 즉, 최종 깊이에 도달했을 때 sum값을 계산하여 target이 되는지 확인\n",
        "        elif sum(numbers_with_op) == target:\n",
        "            answer += 1\n",
        "\n",
        "        return answer\n",
        "\n",
        "    answer = gen_list(numbers, target, depth=0)\n",
        "\n",
        "    return answer\n",
        "\n",
        "\n",
        "solution(numbers, target)"
      ],
      "execution_count": 29,
      "outputs": [
        {
          "output_type": "stream",
          "text": [
            "현재 0층, numbers_with_op: [1, 1, 1, 1, 1]\n",
            "현재 1층, numbers_with_op: [1, 1, 1, 1, 1]\n",
            "현재 2층, numbers_with_op: [1, 1, 1, 1, 1]\n",
            "현재 3층, numbers_with_op: [1, 1, 1, 1, 1]\n",
            "현재 4층, numbers_with_op: [1, 1, 1, 1, 1]\n",
            "현재 4층, numbers_with_op: [1, 1, 1, 1, -1]\n",
            "현재 3층, numbers_with_op: [1, 1, 1, -1, -1]\n",
            "현재 4층, numbers_with_op: [1, 1, 1, -1, -1]\n",
            "현재 4층, numbers_with_op: [1, 1, 1, -1, 1]\n",
            "현재 2층, numbers_with_op: [1, 1, -1, -1, 1]\n",
            "현재 3층, numbers_with_op: [1, 1, -1, -1, 1]\n",
            "현재 4층, numbers_with_op: [1, 1, -1, -1, 1]\n",
            "현재 4층, numbers_with_op: [1, 1, -1, -1, -1]\n",
            "현재 3층, numbers_with_op: [1, 1, -1, 1, -1]\n",
            "현재 4층, numbers_with_op: [1, 1, -1, 1, -1]\n",
            "현재 4층, numbers_with_op: [1, 1, -1, 1, 1]\n",
            "현재 1층, numbers_with_op: [1, -1, -1, 1, 1]\n",
            "현재 2층, numbers_with_op: [1, -1, -1, 1, 1]\n",
            "현재 3층, numbers_with_op: [1, -1, -1, 1, 1]\n",
            "현재 4층, numbers_with_op: [1, -1, -1, 1, 1]\n",
            "현재 4층, numbers_with_op: [1, -1, -1, 1, -1]\n",
            "현재 3층, numbers_with_op: [1, -1, -1, -1, -1]\n",
            "현재 4층, numbers_with_op: [1, -1, -1, -1, -1]\n",
            "현재 4층, numbers_with_op: [1, -1, -1, -1, 1]\n",
            "현재 2층, numbers_with_op: [1, -1, 1, -1, 1]\n",
            "현재 3층, numbers_with_op: [1, -1, 1, -1, 1]\n",
            "현재 4층, numbers_with_op: [1, -1, 1, -1, 1]\n",
            "현재 4층, numbers_with_op: [1, -1, 1, -1, -1]\n",
            "현재 3층, numbers_with_op: [1, -1, 1, 1, -1]\n",
            "현재 4층, numbers_with_op: [1, -1, 1, 1, -1]\n",
            "현재 4층, numbers_with_op: [1, -1, 1, 1, 1]\n",
            "현재 0층, numbers_with_op: [-1, -1, 1, 1, 1]\n",
            "현재 1층, numbers_with_op: [-1, -1, 1, 1, 1]\n",
            "현재 2층, numbers_with_op: [-1, -1, 1, 1, 1]\n",
            "현재 3층, numbers_with_op: [-1, -1, 1, 1, 1]\n",
            "현재 4층, numbers_with_op: [-1, -1, 1, 1, 1]\n",
            "현재 4층, numbers_with_op: [-1, -1, 1, 1, -1]\n",
            "현재 3층, numbers_with_op: [-1, -1, 1, -1, -1]\n",
            "현재 4층, numbers_with_op: [-1, -1, 1, -1, -1]\n",
            "현재 4층, numbers_with_op: [-1, -1, 1, -1, 1]\n",
            "현재 2층, numbers_with_op: [-1, -1, -1, -1, 1]\n",
            "현재 3층, numbers_with_op: [-1, -1, -1, -1, 1]\n",
            "현재 4층, numbers_with_op: [-1, -1, -1, -1, 1]\n",
            "현재 4층, numbers_with_op: [-1, -1, -1, -1, -1]\n",
            "현재 3층, numbers_with_op: [-1, -1, -1, 1, -1]\n",
            "현재 4층, numbers_with_op: [-1, -1, -1, 1, -1]\n",
            "현재 4층, numbers_with_op: [-1, -1, -1, 1, 1]\n",
            "현재 1층, numbers_with_op: [-1, 1, -1, 1, 1]\n",
            "현재 2층, numbers_with_op: [-1, 1, -1, 1, 1]\n",
            "현재 3층, numbers_with_op: [-1, 1, -1, 1, 1]\n",
            "현재 4층, numbers_with_op: [-1, 1, -1, 1, 1]\n",
            "현재 4층, numbers_with_op: [-1, 1, -1, 1, -1]\n",
            "현재 3층, numbers_with_op: [-1, 1, -1, -1, -1]\n",
            "현재 4층, numbers_with_op: [-1, 1, -1, -1, -1]\n",
            "현재 4층, numbers_with_op: [-1, 1, -1, -1, 1]\n",
            "현재 2층, numbers_with_op: [-1, 1, 1, -1, 1]\n",
            "현재 3층, numbers_with_op: [-1, 1, 1, -1, 1]\n",
            "현재 4층, numbers_with_op: [-1, 1, 1, -1, 1]\n",
            "현재 4층, numbers_with_op: [-1, 1, 1, -1, -1]\n",
            "현재 3층, numbers_with_op: [-1, 1, 1, 1, -1]\n",
            "현재 4층, numbers_with_op: [-1, 1, 1, 1, -1]\n",
            "현재 4층, numbers_with_op: [-1, 1, 1, 1, 1]\n"
          ],
          "name": "stdout"
        },
        {
          "output_type": "execute_result",
          "data": {
            "text/plain": [
              "5"
            ]
          },
          "metadata": {
            "tags": []
          },
          "execution_count": 29
        }
      ]
    }
  ]
}