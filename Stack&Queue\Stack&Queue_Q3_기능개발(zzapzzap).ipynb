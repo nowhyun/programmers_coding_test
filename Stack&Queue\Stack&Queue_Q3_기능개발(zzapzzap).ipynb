{
  "nbformat": 4,
  "nbformat_minor": 0,
  "metadata": {
    "colab": {
      "name": "Stack&Queue_Q3_기능개발(zzapzzap).ipynb",
      "provenance": [],
      "authorship_tag": "ABX9TyNX9ZvGLALVneJOO4Tix0hP",
      "include_colab_link": true
    },
    "kernelspec": {
      "name": "python3",
      "display_name": "Python 3"
    }
  },
  "cells": [
    {
      "cell_type": "markdown",
      "metadata": {
        "id": "view-in-github",
        "colab_type": "text"
      },
      "source": [
        "<a href=\"https://colab.research.google.com/github/nowhyun/programmers_coding_test/blob/master/Stack%26Queue%5CStack%26Queue_Q3_%EA%B8%B0%EB%8A%A5%EA%B0%9C%EB%B0%9C(zzapzzap).ipynb\" target=\"_parent\"><img src=\"https://colab.research.google.com/assets/colab-badge.svg\" alt=\"Open In Colab\"/></a>"
      ]
    },
    {
      "cell_type": "code",
      "metadata": {
        "id": "yqXBQnAhN_Fk",
        "colab_type": "code",
        "colab": {}
      },
      "source": [
        "from collections import deque\n",
        "import math\n",
        "\n",
        "def solution(progresses, speeds):\n",
        "    threshold = 100\n",
        "    answer = deque()\n",
        "    count = 1\n",
        "    temp = math.ceil((threshold - progresses[0]) / speeds[0])\n",
        "    \n",
        "    for i in range(1, len(progresses)):\n",
        "        curr = math.ceil((threshold - progresses[i]) / speeds[i])\n",
        "        if temp < curr:\n",
        "            answer.append(count)\n",
        "            temp = curr\n",
        "            count = 1\n",
        "        else:\n",
        "            count+=1\n",
        "    answer.append(count)\n",
        "    return list(answer)"
      ],
      "execution_count": 0,
      "outputs": []
    }
  ]
}