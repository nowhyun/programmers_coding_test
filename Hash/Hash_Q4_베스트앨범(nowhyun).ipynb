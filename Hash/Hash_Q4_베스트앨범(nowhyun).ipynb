{
  "nbformat": 4,
  "nbformat_minor": 0,
  "metadata": {
    "colab": {
      "name": "Hash_Q4_베스트앨범(nowhyun).ipynb",
      "provenance": [],
      "collapsed_sections": [],
      "authorship_tag": "ABX9TyNhPtKIRSn3Y+3Vd33AvNjY",
      "include_colab_link": true
    },
    "kernelspec": {
      "name": "python3",
      "display_name": "Python 3"
    }
  },
  "cells": [
    {
      "cell_type": "markdown",
      "metadata": {
        "id": "view-in-github",
        "colab_type": "text"
      },
      "source": [
        "<a href=\"https://colab.research.google.com/github/nowhyun/programmers_coding_test/blob/master/Hash/Hash_Q4_%EB%B2%A0%EC%8A%A4%ED%8A%B8%EC%95%A8%EB%B2%94(nowhyun).ipynb\" target=\"_parent\"><img src=\"https://colab.research.google.com/assets/colab-badge.svg\" alt=\"Open In Colab\"/></a>"
      ]
    },
    {
      "cell_type": "code",
      "metadata": {
        "id": "d4PVmGRpV6XW",
        "colab_type": "code",
        "colab": {}
      },
      "source": [
        "def solution(genres, plays):\n",
        "    most_genres = {}\n",
        "    for i in range(len(genres)):\n",
        "        if genres[i] in most_genres.keys():\n",
        "            most_genres[genres[i]] += plays[i]\n",
        "        else: most_genres[genres[i]] = plays[i]\n",
        "    most_genres = sorted(most_genres.items(), key=lambda x:x[1], reverse=False)\n",
        "    most_genres = list(dict(most_genres).keys())\n",
        "    print('1',most_genres)\n",
        "\n",
        "    music_obj = []\n",
        "    for i_,(g_, p_) in enumerate(zip(genres, plays)):\n",
        "        music_obj.append(music(i_, g_, p_))\n",
        "    sorted_music_obj = sorted(music_obj, key=lambda x:(most_genres.index(x.genres_), x.plays_, -x.name_), reverse=True)\n",
        "    print('2',sorted_music_obj)\n",
        "\n",
        "    rank_cnt = {genre: 0 for genre in most_genres}\n",
        "    print('3',rank_cnt)\n",
        "    answer = []\n",
        "    for obj_ in sorted_music_obj:\n",
        "        if rank_cnt[obj_.genres_] < 2:\n",
        "            rank_cnt[obj_.genres_] += 1\n",
        "            answer.append(obj_.name_)\n",
        "    print('4',rank_cnt)\n",
        "\n",
        "    return answer\n",
        "    "
      ],
      "execution_count": 0,
      "outputs": []
    }
  ]
}