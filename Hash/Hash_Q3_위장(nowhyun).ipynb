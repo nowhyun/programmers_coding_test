{
  "nbformat": 4,
  "nbformat_minor": 0,
  "metadata": {
    "colab": {
      "name": "Hash_Q3_위장(nowhyun).ipynb",
      "provenance": [],
      "collapsed_sections": [],
      "authorship_tag": "ABX9TyM5UJ6eBhZFpJeKjAya0u76",
      "include_colab_link": true
    },
    "kernelspec": {
      "name": "python3",
      "display_name": "Python 3"
    }
  },
  "cells": [
    {
      "cell_type": "markdown",
      "metadata": {
        "id": "view-in-github",
        "colab_type": "text"
      },
      "source": [
        "<a href=\"https://colab.research.google.com/github/nowhyun/programmers_coding_test/blob/master/Hash/Hash_Q3_%EC%9C%84%EC%9E%A5(nowhyun).ipynb\" target=\"_parent\"><img src=\"https://colab.research.google.com/assets/colab-badge.svg\" alt=\"Open In Colab\"/></a>"
      ]
    },
    {
      "cell_type": "code",
      "metadata": {
        "id": "qY5w6E9ZVnKq",
        "colab_type": "code",
        "colab": {}
      },
      "source": [
        "from functools import reduce\n",
        "from collections import Counter\n",
        "import numpy as np\n",
        "\n",
        "def multiply(arr):\n",
        "    return reduce(lambda x, y: x * y, arr)\n",
        "\n",
        "# (x+1 * y+1 * z+1) - 1 로 구현\n",
        "def solution(clothes):\n",
        "    real_counter = Counter(np.array(clothes)[:,1])\n",
        "    if len(real_counter) != 1:\n",
        "        dummy_counter = Counter(real_counter.keys())\n",
        "        final_counter = real_counter + dummy_counter\n",
        "        print(final_counter.values())\n",
        "        answer = multiply(final_counter.values()) - 1\n",
        "        # answer = reduce(lambda x,y:x*y, final_counter.values()) -1\n",
        "    else: answer = len(clothes)\n",
        "\n",
        "    return answer  \n",
        "\n",
        "# best\n",
        "def solution(clothes):\n",
        "    cnt = Counter([kind for _, kind in clothes])\n",
        "    print(cnt.values())\n",
        "    answer = reduce(lambda x, y: x*(y+1), cnt.values(),1) - 1\n",
        "    \n",
        "    return answer"
      ],
      "execution_count": 0,
      "outputs": []
    }
  ]
}