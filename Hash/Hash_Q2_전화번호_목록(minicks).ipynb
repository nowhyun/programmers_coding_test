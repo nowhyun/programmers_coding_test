{
  "nbformat": 4,
  "nbformat_minor": 0,
  "metadata": {
    "colab": {
      "name": "Hash_Q2_전화번호_목록(minicks).ipynb",
      "provenance": [],
      "authorship_tag": "ABX9TyMCfuon5qkiMMOu7iZwAvVT",
      "include_colab_link": true
    },
    "kernelspec": {
      "name": "python3",
      "display_name": "Python 3"
    }
  },
  "cells": [
    {
      "cell_type": "markdown",
      "metadata": {
        "id": "view-in-github",
        "colab_type": "text"
      },
      "source": [
        "<a href=\"https://colab.research.google.com/github/nowhyun/programmers_coding_test/blob/master/Hash/Hash_Q2_%EC%A0%84%ED%99%94%EB%B2%88%ED%98%B8_%EB%AA%A9%EB%A1%9D(minicks).ipynb\" target=\"_parent\"><img src=\"https://colab.research.google.com/assets/colab-badge.svg\" alt=\"Open In Colab\"/></a>"
      ]
    },
    {
      "cell_type": "code",
      "metadata": {
        "id": "kWaI_86QaDlM",
        "colab_type": "code",
        "colab": {}
      },
      "source": [
        "def solution(phone_book):\n",
        "    answer = True\n",
        "    for i in range(0,len(phone_book)):\n",
        "        for j in range(0,len(phone_book)):\n",
        "            if i == j:\n",
        "                continue\n",
        "            if phone_book[i] == phone_book[j][:len(phone_book[i])]:\n",
        "                answer = False\n",
        "                break\n",
        "        if not answer:\n",
        "            break\n",
        "    return answer"
      ],
      "execution_count": 0,
      "outputs": []
    }
  ]
}