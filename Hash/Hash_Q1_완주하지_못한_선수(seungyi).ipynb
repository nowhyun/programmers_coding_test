{
  "nbformat": 4,
  "nbformat_minor": 0,
  "metadata": {
    "colab": {
      "name": "Hash_Q1_완주하지_못한_선수(seungyi).ipynb",
      "provenance": [],
      "authorship_tag": "ABX9TyP0zf1Mo3zdS1KaiMfW22gW",
      "include_colab_link": true
    },
    "kernelspec": {
      "name": "python3",
      "display_name": "Python 3"
    }
  },
  "cells": [
    {
      "cell_type": "markdown",
      "metadata": {
        "id": "view-in-github",
        "colab_type": "text"
      },
      "source": [
        "<a href=\"https://colab.research.google.com/github/nowhyun/programmers_coding_test/blob/master/Hash/Hash_Q1_%EC%99%84%EC%A3%BC%ED%95%98%EC%A7%80_%EB%AA%BB%ED%95%9C_%EC%84%A0%EC%88%98(seungyi).ipynb\" target=\"_parent\"><img src=\"https://colab.research.google.com/assets/colab-badge.svg\" alt=\"Open In Colab\"/></a>"
      ]
    },
    {
      "cell_type": "code",
      "metadata": {
        "id": "7yXujemOR6YQ",
        "colab_type": "code",
        "colab": {}
      },
      "source": [
        "def solution(participant, completion):\n",
        "    sum = 0\n",
        "    participant2 = dict()\n",
        "    for i in participant:\n",
        "        participant2[i]= hash(i)\n",
        "    for i in participant:\n",
        "        sum += hash(i)\n",
        "    for i in completion:\n",
        "        sum -= hash(i)\n",
        "    for key, value in participant2.items():\n",
        "        if value == sum:\n",
        "            answer = key\n",
        "    return answer"
      ],
      "execution_count": 0,
      "outputs": []
    }
  ]
}