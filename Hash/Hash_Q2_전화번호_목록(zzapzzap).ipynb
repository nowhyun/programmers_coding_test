{
  "nbformat": 4,
  "nbformat_minor": 0,
  "metadata": {
    "colab": {
      "name": "Hash_Q2_전화번호_목록(zzapzzap).ipynb",
      "provenance": [],
      "authorship_tag": "ABX9TyPBVtRBMHRMIfpoGeP7tupS",
      "include_colab_link": true
    },
    "kernelspec": {
      "name": "python3",
      "display_name": "Python 3"
    }
  },
  "cells": [
    {
      "cell_type": "markdown",
      "metadata": {
        "id": "view-in-github",
        "colab_type": "text"
      },
      "source": [
        "<a href=\"https://colab.research.google.com/github/nowhyun/programmers_coding_test/blob/master/Hash/Hash_Q2_%EC%A0%84%ED%99%94%EB%B2%88%ED%98%B8_%EB%AA%A9%EB%A1%9D(zzapzzap).ipynb\" target=\"_parent\"><img src=\"https://colab.research.google.com/assets/colab-badge.svg\" alt=\"Open In Colab\"/></a>"
      ]
    },
    {
      "cell_type": "code",
      "metadata": {
        "id": "5oTsZmoDZWBT",
        "colab_type": "code",
        "colab": {}
      },
      "source": [
        "def solution(phone_book):\n",
        "    answer = True\n",
        "    phone_book = sorted(phone_book)\n",
        "    for start in range(len(phone_book)-1):\n",
        "        for i in range(start + 1, len(phone_book)):\n",
        "            if phone_book[start] == phone_book[i][:len(phone_book[start])]:\n",
        "                answer = False\n",
        "                break\n",
        "    return answer"
      ],
      "execution_count": 0,
      "outputs": []
    }
  ]
}