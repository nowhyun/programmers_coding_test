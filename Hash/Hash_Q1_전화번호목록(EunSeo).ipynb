{
 "cells": [
  {
   "cell_type": "code",
   "execution_count": null,
   "metadata": {},
   "outputs": [],
   "source": [
    "def solution(phone_book):\n",
    "    for i in range(len(phone_book)-1):\n",
    "        a=len(phone_book[i])\n",
    "        for j in range(i+1, len(phone_book)):\n",
    "            b=len(phone_book[j])\n",
    "            if phone_book[i] in phone_book[j][:a] or phone_book[j] in phone_book[i][:b]:\n",
    "                return False\n",
    "    return True"
   ]
  }
 ],
 "metadata": {
  "kernelspec": {
   "display_name": "Python 3",
   "language": "python",
   "name": "python3"
  },
  "language_info": {
   "codemirror_mode": {
    "name": "ipython",
    "version": 3
   },
   "file_extension": ".py",
   "mimetype": "text/x-python",
   "name": "python",
   "nbconvert_exporter": "python",
   "pygments_lexer": "ipython3",
   "version": "3.7.3"
  }
 },
 "nbformat": 4,
 "nbformat_minor": 2
}
