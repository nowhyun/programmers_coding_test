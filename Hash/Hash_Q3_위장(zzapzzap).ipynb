{
  "nbformat": 4,
  "nbformat_minor": 0,
  "metadata": {
    "colab": {
      "name": "Hash_Q3_위장(zzapzzap).ipynb",
      "provenance": [],
      "authorship_tag": "ABX9TyPd1syQzqTjGUL7kNZRDpvv",
      "include_colab_link": true
    },
    "kernelspec": {
      "name": "python3",
      "display_name": "Python 3"
    }
  },
  "cells": [
    {
      "cell_type": "markdown",
      "metadata": {
        "id": "view-in-github",
        "colab_type": "text"
      },
      "source": [
        "<a href=\"https://colab.research.google.com/github/nowhyun/programmers_coding_test/blob/master/Hash/Hash_Q3_%EC%9C%84%EC%9E%A5(zzapzzap).ipynb\" target=\"_parent\"><img src=\"https://colab.research.google.com/assets/colab-badge.svg\" alt=\"Open In Colab\"/></a>"
      ]
    },
    {
      "cell_type": "code",
      "metadata": {
        "id": "WkTe8QaRcHUr",
        "colab_type": "code",
        "colab": {}
      },
      "source": [
        "from collections import Counter\n",
        "\n",
        "def solution(clothes):\n",
        "    answer = 1\n",
        "    clothes = [kind[1] for kind in clothes]\n",
        "    clothes_count = Counter(clothes)\n",
        "    for _, _ in clothes_count.items():\n",
        "        answer *= (count+1)\n",
        "    answer -=1 \n",
        "    return answer"
      ],
      "execution_count": 0,
      "outputs": []
    }
  ]
}