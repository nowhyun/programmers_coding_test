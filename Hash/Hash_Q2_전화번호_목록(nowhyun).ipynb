{
  "nbformat": 4,
  "nbformat_minor": 0,
  "metadata": {
    "colab": {
      "name": "Hash_Q2_전화번호 목록(nowhyun).ipynb",
      "provenance": [],
      "collapsed_sections": [],
      "authorship_tag": "ABX9TyOs3j9RIYYnhz4Tgg8Yg64d",
      "include_colab_link": true
    },
    "kernelspec": {
      "name": "python3",
      "display_name": "Python 3"
    }
  },
  "cells": [
    {
      "cell_type": "markdown",
      "metadata": {
        "id": "view-in-github",
        "colab_type": "text"
      },
      "source": [
        "<a href=\"https://colab.research.google.com/github/nowhyun/programmers_coding_test/blob/master/Hash/Hash_Q2_%EC%A0%84%ED%99%94%EB%B2%88%ED%98%B8_%EB%AA%A9%EB%A1%9D(nowhyun).ipynb\" target=\"_parent\"><img src=\"https://colab.research.google.com/assets/colab-badge.svg\" alt=\"Open In Colab\"/></a>"
      ]
    },
    {
      "cell_type": "code",
      "metadata": {
        "id": "rVU1iKpaVXvt",
        "colab_type": "code",
        "colab": {}
      },
      "source": [
        "def solution(phone_book):\n",
        "\n",
        "    answer = True\n",
        "\n",
        "    pb = sorted(phone_book)\n",
        "    for i_, nbr_ in enumerate(pb):\n",
        "        if pb[i_] in ','.join(pb[i_+1:]):\n",
        "            answer = False\n",
        "            break\n",
        "            \n",
        "    return answer"
      ],
      "execution_count": 0,
      "outputs": []
    }
  ]
}