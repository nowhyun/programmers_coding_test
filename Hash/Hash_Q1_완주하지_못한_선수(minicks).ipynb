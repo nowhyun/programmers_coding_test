{
  "nbformat": 4,
  "nbformat_minor": 0,
  "metadata": {
    "colab": {
      "name": "Hash_Q1_완주하지_못한_선수(minicks).ipynb",
      "provenance": [],
      "authorship_tag": "ABX9TyPtD7b9vcgnVUhGjh9QBX0r",
      "include_colab_link": true
    },
    "kernelspec": {
      "name": "python3",
      "display_name": "Python 3"
    }
  },
  "cells": [
    {
      "cell_type": "markdown",
      "metadata": {
        "id": "view-in-github",
        "colab_type": "text"
      },
      "source": [
        "<a href=\"https://colab.research.google.com/github/nowhyun/programmers_coding_test/blob/master/Hash/Hash_Q1_%EC%99%84%EC%A3%BC%ED%95%98%EC%A7%80_%EB%AA%BB%ED%95%9C_%EC%84%A0%EC%88%98(minicks).ipynb\" target=\"_parent\"><img src=\"https://colab.research.google.com/assets/colab-badge.svg\" alt=\"Open In Colab\"/></a>"
      ]
    },
    {
      "cell_type": "code",
      "metadata": {
        "id": "kWaI_86QaDlM",
        "colab_type": "code",
        "colab": {}
      },
      "source": [
        "def solution(participant, completion):\n",
        "    answer = ''\n",
        "    part_sort = sorted(participant)\n",
        "    com_sort = sorted(completion)\n",
        "    no = True\n",
        "    for i in range(len(completion)):\n",
        "        if part_sort[i] != com_sort[i]:\n",
        "            no = False\n",
        "            answer = part_sort[i]\n",
        "            break\n",
        "    if no:\n",
        "        answer = part_sort[-1] \n",
        "    return answer"
      ],
      "execution_count": 0,
      "outputs": []
    }
  ]
}