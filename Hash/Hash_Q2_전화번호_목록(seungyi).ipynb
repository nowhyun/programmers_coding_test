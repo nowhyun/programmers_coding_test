{
  "nbformat": 4,
  "nbformat_minor": 0,
  "metadata": {
    "colab": {
      "name": "Hash_Q2_전화번호_목록(seungyi).ipynb",
      "provenance": [],
      "authorship_tag": "ABX9TyNofZoQa8RTtgvYygV2FOy6",
      "include_colab_link": true
    },
    "kernelspec": {
      "name": "python3",
      "display_name": "Python 3"
    }
  },
  "cells": [
    {
      "cell_type": "markdown",
      "metadata": {
        "id": "view-in-github",
        "colab_type": "text"
      },
      "source": [
        "<a href=\"https://colab.research.google.com/github/nowhyun/programmers_coding_test/blob/master/Hash/Hash_Q2_%EC%A0%84%ED%99%94%EB%B2%88%ED%98%B8_%EB%AA%A9%EB%A1%9D(seungyi).ipynb\" target=\"_parent\"><img src=\"https://colab.research.google.com/assets/colab-badge.svg\" alt=\"Open In Colab\"/></a>"
      ]
    },
    {
      "cell_type": "code",
      "metadata": {
        "id": "3jDfNzn4feOc",
        "colab_type": "code",
        "colab": {}
      },
      "source": [
        "def solution(phone_book):\n",
        "    string_list =[]\n",
        "    count = 0\n",
        "    for string in phone_book:\n",
        "        a = len(string)\n",
        "        b = hash(string)\n",
        "        for string2 in phone_book:\n",
        "            c = string2[0:a]\n",
        "            if b == hash(c):\n",
        "                count += 1\n",
        "            if count == 2:\n",
        "                break\n",
        "        if count == 2:\n",
        "            break\n",
        "        count = 0\n",
        "    if count == 2:\n",
        "        answer = False\n",
        "    else:\n",
        "        answer = True\n",
        "    return answer"
      ],
      "execution_count": 0,
      "outputs": []
    }
  ]
}