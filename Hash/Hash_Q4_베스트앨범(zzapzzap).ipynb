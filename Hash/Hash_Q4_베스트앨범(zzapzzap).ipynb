{
  "nbformat": 4,
  "nbformat_minor": 0,
  "metadata": {
    "colab": {
      "name": "Hash_Q4_베스트앨범(zzapzzap).ipynb",
      "provenance": [],
      "authorship_tag": "ABX9TyPWNeyLBjYNc8FicgfCIOKy",
      "include_colab_link": true
    },
    "kernelspec": {
      "name": "python3",
      "display_name": "Python 3"
    }
  },
  "cells": [
    {
      "cell_type": "markdown",
      "metadata": {
        "id": "view-in-github",
        "colab_type": "text"
      },
      "source": [
        "<a href=\"https://colab.research.google.com/github/nowhyun/programmers_coding_test/blob/master/Hash/Hash_Q4_%EB%B2%A0%EC%8A%A4%ED%8A%B8%EC%95%A8%EB%B2%94(zzapzzap).ipynb\" target=\"_parent\"><img src=\"https://colab.research.google.com/assets/colab-badge.svg\" alt=\"Open In Colab\"/></a>"
      ]
    },
    {
      "cell_type": "code",
      "metadata": {
        "id": "QaQ6hS8OdZsa",
        "colab_type": "code",
        "colab": {}
      },
      "source": [
        "from collections import defaultdict\n",
        "\n",
        "def solution(genres, plays):\n",
        "    \n",
        "    sum_dict = defaultdict(int)\n",
        "    list_dict = defaultdict(list)\n",
        "    \n",
        "    for i in range(len(plays)):\n",
        "        sum_dict[genres[i]]+=plays[i]\n",
        "        list_dict[genres[i]].append([i,plays[i]])\n",
        "\n",
        "\n",
        "    sum_dict = sorted(sum_dict.items(),key = lambda x : x[1], reverse=True)\n",
        "    answer = []\n",
        "    for key,_ in sum_dict:\n",
        "        list_dict[key] = sorted(list_dict[key],key = lambda x : x[1], reverse = True)\n",
        "        answer.extend([index for index, _ in list_dict[key]][:2])\n",
        "    \n",
        "    return answer"
      ],
      "execution_count": 0,
      "outputs": []
    }
  ]
}