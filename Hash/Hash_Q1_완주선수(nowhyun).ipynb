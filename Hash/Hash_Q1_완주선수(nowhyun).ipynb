# 프로그래머스 / 해쉬테이블 / Q1.완주 선수

from collections import Counter

def solution(participant, completion):

    pc_ = Counter(participant)
    print(pc_)

    cp_ = Counter(completion)
    print(cp_)

    answer_ = pc_ - cp_
    answer = list(answer_)[0]

    return answer