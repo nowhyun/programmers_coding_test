{
  "nbformat": 4,
  "nbformat_minor": 0,
  "metadata": {
    "colab": {
      "name": "Hash_Q1_완주선수(zzapzzap).ipynb",
      "provenance": [],
      "authorship_tag": "ABX9TyOVeWr5dOAcdmDJ5DgSHDSg",
      "include_colab_link": true
    },
    "kernelspec": {
      "name": "python3",
      "display_name": "Python 3"
    }
  },
  "cells": [
    {
      "cell_type": "markdown",
      "metadata": {
        "id": "view-in-github",
        "colab_type": "text"
      },
      "source": [
        "<a href=\"https://colab.research.google.com/github/nowhyun/programmers_coding_test/blob/master/Hash/Hash_Q1_%EC%99%84%EC%A3%BC%EC%84%A0%EC%88%98(zzapzzap).ipynb\" target=\"_parent\"><img src=\"https://colab.research.google.com/assets/colab-badge.svg\" alt=\"Open In Colab\"/></a>"
      ]
    },
    {
      "cell_type": "code",
      "metadata": {
        "id": "abOFtZaDYu7o",
        "colab_type": "code",
        "colab": {}
      },
      "source": [
        "from collections import Counter\n",
        "\n",
        "def solution(participant, completion):\n",
        "    participant_counts = dict(Counter(participant))\n",
        "    completion_counts = dict(Counter(completion))\n",
        "    \n",
        "    for key in completion_counts:\n",
        "        participant_counts[key] -= completion_counts[key]\n",
        "    \n",
        "    answer_list = [k for k, v in participant_counts.items() if v!=0]\n",
        "    answer = answer_list[0]\n",
        "    return answer"
      ],
      "execution_count": 0,
      "outputs": []
    }
  ]
}
