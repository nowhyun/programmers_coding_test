{
  "nbformat": 4,
  "nbformat_minor": 0,
  "metadata": {
    "colab": {
      "name": "Dynamic_Programming_Q2_타일장식물(seungyi).ipynb",
      "provenance": [],
      "collapsed_sections": []
    },
    "kernelspec": {
      "name": "python3",
      "display_name": "Python 3"
    }
  },
  "cells": [
    {
      "cell_type": "code",
      "metadata": {
        "id": "A61Qn2tvbLZ7",
        "colab_type": "code",
        "colab": {}
      },
      "source": [
        "def Tail(m,n):\n",
        "    if m[n]==0:\n",
        "        m[n]=Tail(m,n-1)+Tail(m,n-2)\n",
        "    return m[n]\n",
        "\n",
        "def solution(N):\n",
        "    m = [0]*(N+1)\n",
        "    m[0],m[1] = 1,1\n",
        "    Tail_N = Tail(m,N-1)\n",
        "    Tail_N2 = Tail(m,N-2)\n",
        "    answer = Tail_N*2 + (Tail_N2 + Tail_N)*2 \n",
        "    return answer"
      ],
      "execution_count": 0,
      "outputs": []
    }
  ]
}